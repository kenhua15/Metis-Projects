{
 "cells": [
  {
   "cell_type": "code",
   "execution_count": 1,
   "id": "e87b91dc",
   "metadata": {},
   "outputs": [],
   "source": [
    "import pandas as pd\n",
    "import numpy as np\n"
   ]
  },
  {
   "cell_type": "markdown",
   "id": "c7e8775c",
   "metadata": {},
   "source": [
    "The Project Workflow can be broken into steps:\n",
    "\n",
    "1. Data Loading from Yelp Open DataSet and Data Preprocessing\n",
    "2. Topic Modeling and Sentiment Analysis - Done simultaneously\n",
    "3. Linear Regression of Topic Sentiments on Review Rating\n"
   ]
  },
  {
   "cell_type": "markdown",
   "id": "335fcd46",
   "metadata": {},
   "source": [
    "## Data Loading\n",
    "\n",
    "First step is to load the dataset. We will load businesses with over 100 reviews"
   ]
  },
  {
   "cell_type": "code",
   "execution_count": 2,
   "id": "05e7df58",
   "metadata": {},
   "outputs": [],
   "source": [
    "def get_business_dataset(review_threshold):\n",
    "    #Load restaurant businesses with over a threshold amount of reviews\n",
    "    business_json_path = 'yelp_academic_dataset_business.json'\n",
    "    \n",
    "    df_b = pd.read_json(business_json_path, lines = True)\n",
    "    df_b = df_b.loc[df_b['review_count'] > review_threshold]\n",
    "    df_b = df_b.loc[df_b['categories'].str.contains('Restaurants') == True]\n",
    "\n",
    "    return df_b\n"
   ]
  },
  {
   "cell_type": "code",
   "execution_count": 3,
   "id": "d9f8a92b",
   "metadata": {},
   "outputs": [
    {
     "data": {
      "text/html": [
       "<div>\n",
       "<style scoped>\n",
       "    .dataframe tbody tr th:only-of-type {\n",
       "        vertical-align: middle;\n",
       "    }\n",
       "\n",
       "    .dataframe tbody tr th {\n",
       "        vertical-align: top;\n",
       "    }\n",
       "\n",
       "    .dataframe thead th {\n",
       "        text-align: right;\n",
       "    }\n",
       "</style>\n",
       "<table border=\"1\" class=\"dataframe\">\n",
       "  <thead>\n",
       "    <tr style=\"text-align: right;\">\n",
       "      <th></th>\n",
       "      <th>business_id</th>\n",
       "      <th>name</th>\n",
       "      <th>address</th>\n",
       "      <th>city</th>\n",
       "      <th>state</th>\n",
       "      <th>postal_code</th>\n",
       "      <th>latitude</th>\n",
       "      <th>longitude</th>\n",
       "      <th>stars</th>\n",
       "      <th>review_count</th>\n",
       "      <th>is_open</th>\n",
       "      <th>attributes</th>\n",
       "      <th>categories</th>\n",
       "      <th>hours</th>\n",
       "    </tr>\n",
       "  </thead>\n",
       "  <tbody>\n",
       "    <tr>\n",
       "      <th>1</th>\n",
       "      <td>tCbdrRPZA0oiIYSmHG3J0w</td>\n",
       "      <td>Flying Elephants at PDX</td>\n",
       "      <td>7000 NE Airport Way</td>\n",
       "      <td>Portland</td>\n",
       "      <td>OR</td>\n",
       "      <td>97218</td>\n",
       "      <td>45.588906</td>\n",
       "      <td>-122.593331</td>\n",
       "      <td>4.0</td>\n",
       "      <td>126</td>\n",
       "      <td>1</td>\n",
       "      <td>{'RestaurantsTakeOut': 'True', 'RestaurantsAtt...</td>\n",
       "      <td>Salad, Soup, Sandwiches, Delis, Restaurants, C...</td>\n",
       "      <td>{'Monday': '5:0-18:0', 'Tuesday': '5:0-17:0', ...</td>\n",
       "    </tr>\n",
       "    <tr>\n",
       "      <th>5</th>\n",
       "      <td>D4JtQNTI4X3KcbzacDJsMw</td>\n",
       "      <td>Bob Likes Thai Food</td>\n",
       "      <td>3755 Main St</td>\n",
       "      <td>Vancouver</td>\n",
       "      <td>BC</td>\n",
       "      <td>V5V</td>\n",
       "      <td>49.251342</td>\n",
       "      <td>-123.101333</td>\n",
       "      <td>3.5</td>\n",
       "      <td>169</td>\n",
       "      <td>1</td>\n",
       "      <td>{'GoodForKids': 'True', 'Alcohol': 'u'none'', ...</td>\n",
       "      <td>Restaurants, Thai</td>\n",
       "      <td>{'Monday': '17:0-21:0', 'Tuesday': '17:0-21:0'...</td>\n",
       "    </tr>\n",
       "    <tr>\n",
       "      <th>13</th>\n",
       "      <td>ufCxltuh56FF4-ZFZ6cVhg</td>\n",
       "      <td>Sister Honey's</td>\n",
       "      <td>247 E Michigan St</td>\n",
       "      <td>Orlando</td>\n",
       "      <td>FL</td>\n",
       "      <td>32806</td>\n",
       "      <td>28.513265</td>\n",
       "      <td>-81.374707</td>\n",
       "      <td>4.5</td>\n",
       "      <td>135</td>\n",
       "      <td>1</td>\n",
       "      <td>{'BusinessParking': '{'garage': False, 'street...</td>\n",
       "      <td>Restaurants, American (New), Bakeries, Dessert...</td>\n",
       "      <td>{'Tuesday': '11:0-18:0', 'Wednesday': '11:0-18...</td>\n",
       "    </tr>\n",
       "    <tr>\n",
       "      <th>29</th>\n",
       "      <td>jGennaZUr2MsJyRhijNBfA</td>\n",
       "      <td>Legal Sea Foods</td>\n",
       "      <td>1 Harborside Dr</td>\n",
       "      <td>Boston</td>\n",
       "      <td>MA</td>\n",
       "      <td>02128</td>\n",
       "      <td>42.363442</td>\n",
       "      <td>-71.025781</td>\n",
       "      <td>3.5</td>\n",
       "      <td>856</td>\n",
       "      <td>1</td>\n",
       "      <td>{'NoiseLevel': 'u'average'', 'BikeParking': 'F...</td>\n",
       "      <td>Sandwiches, Food, Restaurants, Breakfast &amp; Bru...</td>\n",
       "      <td>{'Monday': '6:0-21:0', 'Tuesday': '6:0-21:0', ...</td>\n",
       "    </tr>\n",
       "    <tr>\n",
       "      <th>41</th>\n",
       "      <td>NRPemqVb4qpWFF0Avq_6OQ</td>\n",
       "      <td>Eurasia Sushi Bar &amp; Seafood</td>\n",
       "      <td>7101 W Hwy 71, Ste C-13</td>\n",
       "      <td>Austin</td>\n",
       "      <td>TX</td>\n",
       "      <td>78735</td>\n",
       "      <td>30.234533</td>\n",
       "      <td>-97.877262</td>\n",
       "      <td>4.5</td>\n",
       "      <td>395</td>\n",
       "      <td>1</td>\n",
       "      <td>{'Ambience': '{'touristy': False, 'hipster': F...</td>\n",
       "      <td>Bars, Nightlife, Cocktail Bars, Seafood, Resta...</td>\n",
       "      <td>{'Monday': '0:0-0:0', 'Tuesday': '11:0-22:0', ...</td>\n",
       "    </tr>\n",
       "  </tbody>\n",
       "</table>\n",
       "</div>"
      ],
      "text/plain": [
       "               business_id                         name  \\\n",
       "1   tCbdrRPZA0oiIYSmHG3J0w      Flying Elephants at PDX   \n",
       "5   D4JtQNTI4X3KcbzacDJsMw          Bob Likes Thai Food   \n",
       "13  ufCxltuh56FF4-ZFZ6cVhg               Sister Honey's   \n",
       "29  jGennaZUr2MsJyRhijNBfA              Legal Sea Foods   \n",
       "41  NRPemqVb4qpWFF0Avq_6OQ  Eurasia Sushi Bar & Seafood   \n",
       "\n",
       "                    address       city state postal_code   latitude  \\\n",
       "1       7000 NE Airport Way   Portland    OR       97218  45.588906   \n",
       "5              3755 Main St  Vancouver    BC         V5V  49.251342   \n",
       "13        247 E Michigan St    Orlando    FL       32806  28.513265   \n",
       "29          1 Harborside Dr     Boston    MA       02128  42.363442   \n",
       "41  7101 W Hwy 71, Ste C-13     Austin    TX       78735  30.234533   \n",
       "\n",
       "     longitude  stars  review_count  is_open  \\\n",
       "1  -122.593331    4.0           126        1   \n",
       "5  -123.101333    3.5           169        1   \n",
       "13  -81.374707    4.5           135        1   \n",
       "29  -71.025781    3.5           856        1   \n",
       "41  -97.877262    4.5           395        1   \n",
       "\n",
       "                                           attributes  \\\n",
       "1   {'RestaurantsTakeOut': 'True', 'RestaurantsAtt...   \n",
       "5   {'GoodForKids': 'True', 'Alcohol': 'u'none'', ...   \n",
       "13  {'BusinessParking': '{'garage': False, 'street...   \n",
       "29  {'NoiseLevel': 'u'average'', 'BikeParking': 'F...   \n",
       "41  {'Ambience': '{'touristy': False, 'hipster': F...   \n",
       "\n",
       "                                           categories  \\\n",
       "1   Salad, Soup, Sandwiches, Delis, Restaurants, C...   \n",
       "5                                   Restaurants, Thai   \n",
       "13  Restaurants, American (New), Bakeries, Dessert...   \n",
       "29  Sandwiches, Food, Restaurants, Breakfast & Bru...   \n",
       "41  Bars, Nightlife, Cocktail Bars, Seafood, Resta...   \n",
       "\n",
       "                                                hours  \n",
       "1   {'Monday': '5:0-18:0', 'Tuesday': '5:0-17:0', ...  \n",
       "5   {'Monday': '17:0-21:0', 'Tuesday': '17:0-21:0'...  \n",
       "13  {'Tuesday': '11:0-18:0', 'Wednesday': '11:0-18...  \n",
       "29  {'Monday': '6:0-21:0', 'Tuesday': '6:0-21:0', ...  \n",
       "41  {'Monday': '0:0-0:0', 'Tuesday': '11:0-22:0', ...  "
      ]
     },
     "execution_count": 3,
     "metadata": {},
     "output_type": "execute_result"
    }
   ],
   "source": [
    "review_businesses = get_business_dataset(100)\n",
    "review_businesses.head()"
   ]
  },
  {
   "cell_type": "markdown",
   "id": "6b43685b",
   "metadata": {},
   "source": [
    "Next step is to get all reviews corresponding to the businesses we loaded in `review_businesses`"
   ]
  },
  {
   "cell_type": "code",
   "execution_count": 7,
   "id": "b2724f55",
   "metadata": {},
   "outputs": [],
   "source": [
    "def get_review_dataset(review_json_path, businesses):\n",
    "    \n",
    "    size = 100000\n",
    "    review = pd.read_json(review_json_path, lines=True,\n",
    "                          dtype={'review_id':str,'user_id':str,\n",
    "                                 'business_id':str,'stars':int,\n",
    "                                 'date':str,'text':str,'useful':int,\n",
    "                                 'funny':int,'cool':int},\n",
    "                          chunksize=size)\n",
    "    chunk_list = []\n",
    "    for chunk_review in review:\n",
    "        # Drop columns that aren't needed\n",
    "        chunk_review = chunk_review.drop(['review_id','useful','funny','cool'], axis=1)\n",
    "        # Renaming column name to avoid conflict with business overall star rating\n",
    "        chunk_review = chunk_review.rename(columns={'stars': 'review_stars'})\n",
    "        # Inner merge with edited business file so only reviews related to the business remain\n",
    "        chunk_merged = pd.merge(businesses, chunk_review, on='business_id', how='inner')\n",
    "        # Show feedback on progress\n",
    "        chunk_list.append(chunk_merged)\n",
    "    # After trimming down the review file, concatenate all relevant data back to one dataframe\n",
    "    df_merged = pd.concat(chunk_list, ignore_index=True, join='outer', axis=0)\n",
    "    return df_merged\n"
   ]
  },
  {
   "cell_type": "code",
   "execution_count": 8,
   "id": "e9e6c19a",
   "metadata": {},
   "outputs": [
    {
     "data": {
      "text/html": [
       "<div>\n",
       "<style scoped>\n",
       "    .dataframe tbody tr th:only-of-type {\n",
       "        vertical-align: middle;\n",
       "    }\n",
       "\n",
       "    .dataframe tbody tr th {\n",
       "        vertical-align: top;\n",
       "    }\n",
       "\n",
       "    .dataframe thead th {\n",
       "        text-align: right;\n",
       "    }\n",
       "</style>\n",
       "<table border=\"1\" class=\"dataframe\">\n",
       "  <thead>\n",
       "    <tr style=\"text-align: right;\">\n",
       "      <th></th>\n",
       "      <th>business_id</th>\n",
       "      <th>name</th>\n",
       "      <th>address</th>\n",
       "      <th>city</th>\n",
       "      <th>state</th>\n",
       "      <th>postal_code</th>\n",
       "      <th>latitude</th>\n",
       "      <th>longitude</th>\n",
       "      <th>stars</th>\n",
       "      <th>review_count</th>\n",
       "      <th>is_open</th>\n",
       "      <th>attributes</th>\n",
       "      <th>categories</th>\n",
       "      <th>hours</th>\n",
       "      <th>user_id</th>\n",
       "      <th>review_stars</th>\n",
       "      <th>text</th>\n",
       "      <th>date</th>\n",
       "    </tr>\n",
       "  </thead>\n",
       "  <tbody>\n",
       "    <tr>\n",
       "      <th>0</th>\n",
       "      <td>tCbdrRPZA0oiIYSmHG3J0w</td>\n",
       "      <td>Flying Elephants at PDX</td>\n",
       "      <td>7000 NE Airport Way</td>\n",
       "      <td>Portland</td>\n",
       "      <td>OR</td>\n",
       "      <td>97218</td>\n",
       "      <td>45.588906</td>\n",
       "      <td>-122.593331</td>\n",
       "      <td>4.0</td>\n",
       "      <td>126</td>\n",
       "      <td>1</td>\n",
       "      <td>{'RestaurantsTakeOut': 'True', 'RestaurantsAtt...</td>\n",
       "      <td>Salad, Soup, Sandwiches, Delis, Restaurants, C...</td>\n",
       "      <td>{'Monday': '5:0-18:0', 'Tuesday': '5:0-17:0', ...</td>\n",
       "      <td>24gb1QBBEl2xHtVeTzDsCQ</td>\n",
       "      <td>4</td>\n",
       "      <td>Elephant's contacted me the same day I posted ...</td>\n",
       "      <td>2012-07-16 05:04:05</td>\n",
       "    </tr>\n",
       "    <tr>\n",
       "      <th>1</th>\n",
       "      <td>tCbdrRPZA0oiIYSmHG3J0w</td>\n",
       "      <td>Flying Elephants at PDX</td>\n",
       "      <td>7000 NE Airport Way</td>\n",
       "      <td>Portland</td>\n",
       "      <td>OR</td>\n",
       "      <td>97218</td>\n",
       "      <td>45.588906</td>\n",
       "      <td>-122.593331</td>\n",
       "      <td>4.0</td>\n",
       "      <td>126</td>\n",
       "      <td>1</td>\n",
       "      <td>{'RestaurantsTakeOut': 'True', 'RestaurantsAtt...</td>\n",
       "      <td>Salad, Soup, Sandwiches, Delis, Restaurants, C...</td>\n",
       "      <td>{'Monday': '5:0-18:0', 'Tuesday': '5:0-17:0', ...</td>\n",
       "      <td>AsDPajAdVBsXydg60AIsdw</td>\n",
       "      <td>5</td>\n",
       "      <td>I'm not usually a fan of airport food. I usual...</td>\n",
       "      <td>2015-04-28 21:11:10</td>\n",
       "    </tr>\n",
       "    <tr>\n",
       "      <th>2</th>\n",
       "      <td>tCbdrRPZA0oiIYSmHG3J0w</td>\n",
       "      <td>Flying Elephants at PDX</td>\n",
       "      <td>7000 NE Airport Way</td>\n",
       "      <td>Portland</td>\n",
       "      <td>OR</td>\n",
       "      <td>97218</td>\n",
       "      <td>45.588906</td>\n",
       "      <td>-122.593331</td>\n",
       "      <td>4.0</td>\n",
       "      <td>126</td>\n",
       "      <td>1</td>\n",
       "      <td>{'RestaurantsTakeOut': 'True', 'RestaurantsAtt...</td>\n",
       "      <td>Salad, Soup, Sandwiches, Delis, Restaurants, C...</td>\n",
       "      <td>{'Monday': '5:0-18:0', 'Tuesday': '5:0-17:0', ...</td>\n",
       "      <td>Eypq5gLLjCapBVVnMw_MyA</td>\n",
       "      <td>4</td>\n",
       "      <td>If one must have breakfast at the airport, per...</td>\n",
       "      <td>2015-11-18 18:50:05</td>\n",
       "    </tr>\n",
       "    <tr>\n",
       "      <th>3</th>\n",
       "      <td>tCbdrRPZA0oiIYSmHG3J0w</td>\n",
       "      <td>Flying Elephants at PDX</td>\n",
       "      <td>7000 NE Airport Way</td>\n",
       "      <td>Portland</td>\n",
       "      <td>OR</td>\n",
       "      <td>97218</td>\n",
       "      <td>45.588906</td>\n",
       "      <td>-122.593331</td>\n",
       "      <td>4.0</td>\n",
       "      <td>126</td>\n",
       "      <td>1</td>\n",
       "      <td>{'RestaurantsTakeOut': 'True', 'RestaurantsAtt...</td>\n",
       "      <td>Salad, Soup, Sandwiches, Delis, Restaurants, C...</td>\n",
       "      <td>{'Monday': '5:0-18:0', 'Tuesday': '5:0-17:0', ...</td>\n",
       "      <td>X568BojbbH6cAxqXU5zLwA</td>\n",
       "      <td>5</td>\n",
       "      <td>Reasonably priced, tasty local joint. Lots of ...</td>\n",
       "      <td>2011-11-30 20:15:41</td>\n",
       "    </tr>\n",
       "    <tr>\n",
       "      <th>4</th>\n",
       "      <td>tCbdrRPZA0oiIYSmHG3J0w</td>\n",
       "      <td>Flying Elephants at PDX</td>\n",
       "      <td>7000 NE Airport Way</td>\n",
       "      <td>Portland</td>\n",
       "      <td>OR</td>\n",
       "      <td>97218</td>\n",
       "      <td>45.588906</td>\n",
       "      <td>-122.593331</td>\n",
       "      <td>4.0</td>\n",
       "      <td>126</td>\n",
       "      <td>1</td>\n",
       "      <td>{'RestaurantsTakeOut': 'True', 'RestaurantsAtt...</td>\n",
       "      <td>Salad, Soup, Sandwiches, Delis, Restaurants, C...</td>\n",
       "      <td>{'Monday': '5:0-18:0', 'Tuesday': '5:0-17:0', ...</td>\n",
       "      <td>gQMsoHpjmzBmBQkkefrLXw</td>\n",
       "      <td>5</td>\n",
       "      <td>Other than my own store, this is my go-to airp...</td>\n",
       "      <td>2016-08-12 23:47:28</td>\n",
       "    </tr>\n",
       "  </tbody>\n",
       "</table>\n",
       "</div>"
      ],
      "text/plain": [
       "              business_id                     name              address  \\\n",
       "0  tCbdrRPZA0oiIYSmHG3J0w  Flying Elephants at PDX  7000 NE Airport Way   \n",
       "1  tCbdrRPZA0oiIYSmHG3J0w  Flying Elephants at PDX  7000 NE Airport Way   \n",
       "2  tCbdrRPZA0oiIYSmHG3J0w  Flying Elephants at PDX  7000 NE Airport Way   \n",
       "3  tCbdrRPZA0oiIYSmHG3J0w  Flying Elephants at PDX  7000 NE Airport Way   \n",
       "4  tCbdrRPZA0oiIYSmHG3J0w  Flying Elephants at PDX  7000 NE Airport Way   \n",
       "\n",
       "       city state postal_code   latitude   longitude  stars  review_count  \\\n",
       "0  Portland    OR       97218  45.588906 -122.593331    4.0           126   \n",
       "1  Portland    OR       97218  45.588906 -122.593331    4.0           126   \n",
       "2  Portland    OR       97218  45.588906 -122.593331    4.0           126   \n",
       "3  Portland    OR       97218  45.588906 -122.593331    4.0           126   \n",
       "4  Portland    OR       97218  45.588906 -122.593331    4.0           126   \n",
       "\n",
       "   is_open                                         attributes  \\\n",
       "0        1  {'RestaurantsTakeOut': 'True', 'RestaurantsAtt...   \n",
       "1        1  {'RestaurantsTakeOut': 'True', 'RestaurantsAtt...   \n",
       "2        1  {'RestaurantsTakeOut': 'True', 'RestaurantsAtt...   \n",
       "3        1  {'RestaurantsTakeOut': 'True', 'RestaurantsAtt...   \n",
       "4        1  {'RestaurantsTakeOut': 'True', 'RestaurantsAtt...   \n",
       "\n",
       "                                          categories  \\\n",
       "0  Salad, Soup, Sandwiches, Delis, Restaurants, C...   \n",
       "1  Salad, Soup, Sandwiches, Delis, Restaurants, C...   \n",
       "2  Salad, Soup, Sandwiches, Delis, Restaurants, C...   \n",
       "3  Salad, Soup, Sandwiches, Delis, Restaurants, C...   \n",
       "4  Salad, Soup, Sandwiches, Delis, Restaurants, C...   \n",
       "\n",
       "                                               hours                 user_id  \\\n",
       "0  {'Monday': '5:0-18:0', 'Tuesday': '5:0-17:0', ...  24gb1QBBEl2xHtVeTzDsCQ   \n",
       "1  {'Monday': '5:0-18:0', 'Tuesday': '5:0-17:0', ...  AsDPajAdVBsXydg60AIsdw   \n",
       "2  {'Monday': '5:0-18:0', 'Tuesday': '5:0-17:0', ...  Eypq5gLLjCapBVVnMw_MyA   \n",
       "3  {'Monday': '5:0-18:0', 'Tuesday': '5:0-17:0', ...  X568BojbbH6cAxqXU5zLwA   \n",
       "4  {'Monday': '5:0-18:0', 'Tuesday': '5:0-17:0', ...  gQMsoHpjmzBmBQkkefrLXw   \n",
       "\n",
       "   review_stars                                               text  \\\n",
       "0             4  Elephant's contacted me the same day I posted ...   \n",
       "1             5  I'm not usually a fan of airport food. I usual...   \n",
       "2             4  If one must have breakfast at the airport, per...   \n",
       "3             5  Reasonably priced, tasty local joint. Lots of ...   \n",
       "4             5  Other than my own store, this is my go-to airp...   \n",
       "\n",
       "                  date  \n",
       "0  2012-07-16 05:04:05  \n",
       "1  2015-04-28 21:11:10  \n",
       "2  2015-11-18 18:50:05  \n",
       "3  2011-11-30 20:15:41  \n",
       "4  2016-08-12 23:47:28  "
      ]
     },
     "execution_count": 8,
     "metadata": {},
     "output_type": "execute_result"
    }
   ],
   "source": [
    "review_json_path = 'yelp_academic_dataset_review.json'\n",
    "review_df = get_review_dataset(review_json_path, review_businesses)\n",
    "review_df.head()"
   ]
  },
  {
   "cell_type": "markdown",
   "id": "00d164f7",
   "metadata": {},
   "source": [
    "## Topic Modeling and Sentiment Analysis\n",
    "\n",
    "Now we are ready for the NLP portion of this project. The first step is to create a word bank for each topic created. Here, we have created three topics: environment, service and price. Each of these topics contain keywords that are specific to the topic. Keywords should be added carefully. It is also good if the topics have roughly the same amount of keywords."
   ]
  },
  {
   "cell_type": "code",
   "execution_count": 9,
   "id": "29797faf",
   "metadata": {},
   "outputs": [],
   "source": [
    "environment_keyword = ['clean','dirty','spotless','sanitary','shiny','messy','environment','atmosphere','vibe','mood','ambience', 'decoration',\n",
    "                       'relax', 'architecture']\n",
    "service_keyword = ['service','customer','rude','mean','rushed','friendly', 'patient', 'server', 'waiter', 'waitress','timely',\n",
    "                   'slow','fast','quickly','forever','refund','tip', 'wait']\n",
    "price_keyword = ['expensive','cheap','price','cost','dollar','dollars', 'money', 'pricy','ripoff','affordable', 'value', 'discount', 'bill']\n"
   ]
  },
  {
   "cell_type": "markdown",
   "id": "89497f07",
   "metadata": {},
   "source": [
    "The next step is to create a Ratios table. First we count  up all occurances of all the words in the word bank. Then we divide this by the sum of occurances of all terms to get the percentage of the total occurances of each word. This statistic is similar to TF-IDF, where we will weigh the occurance of each term by this frequency statistic."
   ]
  },
  {
   "cell_type": "code",
   "execution_count": 10,
   "id": "423adde2",
   "metadata": {},
   "outputs": [],
   "source": [
    "term_dictionary = dict()\n",
    "for keyword in (environment_keyword + service_keyword + price_keyword):\n",
    "    term_dictionary[keyword] = sum(review_df.text.str.count(keyword))\n",
    "\n",
    "total_term_count = sum(term_dictionary.values())\n",
    "\n",
    "ratio_dictionary = dict()\n",
    "for keyword in (environment_keyword + service_keyword + price_keyword):\n",
    "    ratio_dictionary[keyword] = term_dictionary[keyword]/total_term_count\n",
    "\n",
    "review_sample = review_df[1:1000]\n",
    "\n",
    "sentence = 'The atmosphere and service are great, but the waiter is a bit slow.'\n",
    "Ratios = pd.DataFrame.from_dict(ratio_dictionary, orient = 'index')\n",
    "Ratios = Ratios.rename(columns = {0: 'Ratios'})\n",
    "Env = Ratios.index.isin(environment_keyword)\n",
    "Ratios['Env'] = Env\n",
    "Serv = Ratios.index.isin(service_keyword)\n",
    "Ratios['Serv'] = Serv\n",
    "Pr = Ratios.index.isin(price_keyword)\n",
    "Ratios['Pr'] = Pr\n"
   ]
  },
  {
   "cell_type": "code",
   "execution_count": 11,
   "id": "b7ab014e",
   "metadata": {},
   "outputs": [
    {
     "data": {
      "text/html": [
       "<div>\n",
       "<style scoped>\n",
       "    .dataframe tbody tr th:only-of-type {\n",
       "        vertical-align: middle;\n",
       "    }\n",
       "\n",
       "    .dataframe tbody tr th {\n",
       "        vertical-align: top;\n",
       "    }\n",
       "\n",
       "    .dataframe thead th {\n",
       "        text-align: right;\n",
       "    }\n",
       "</style>\n",
       "<table border=\"1\" class=\"dataframe\">\n",
       "  <thead>\n",
       "    <tr style=\"text-align: right;\">\n",
       "      <th></th>\n",
       "      <th>Ratios</th>\n",
       "      <th>Env</th>\n",
       "      <th>Serv</th>\n",
       "      <th>Pr</th>\n",
       "    </tr>\n",
       "  </thead>\n",
       "  <tbody>\n",
       "    <tr>\n",
       "      <th>clean</th>\n",
       "      <td>0.023259</td>\n",
       "      <td>True</td>\n",
       "      <td>False</td>\n",
       "      <td>False</td>\n",
       "    </tr>\n",
       "    <tr>\n",
       "      <th>dirty</th>\n",
       "      <td>0.005477</td>\n",
       "      <td>True</td>\n",
       "      <td>False</td>\n",
       "      <td>False</td>\n",
       "    </tr>\n",
       "    <tr>\n",
       "      <th>spotless</th>\n",
       "      <td>0.000301</td>\n",
       "      <td>True</td>\n",
       "      <td>False</td>\n",
       "      <td>False</td>\n",
       "    </tr>\n",
       "    <tr>\n",
       "      <th>sanitary</th>\n",
       "      <td>0.000381</td>\n",
       "      <td>True</td>\n",
       "      <td>False</td>\n",
       "      <td>False</td>\n",
       "    </tr>\n",
       "    <tr>\n",
       "      <th>shiny</th>\n",
       "      <td>0.000238</td>\n",
       "      <td>True</td>\n",
       "      <td>False</td>\n",
       "      <td>False</td>\n",
       "    </tr>\n",
       "    <tr>\n",
       "      <th>messy</th>\n",
       "      <td>0.001551</td>\n",
       "      <td>True</td>\n",
       "      <td>False</td>\n",
       "      <td>False</td>\n",
       "    </tr>\n",
       "    <tr>\n",
       "      <th>environment</th>\n",
       "      <td>0.005662</td>\n",
       "      <td>True</td>\n",
       "      <td>False</td>\n",
       "      <td>False</td>\n",
       "    </tr>\n",
       "    <tr>\n",
       "      <th>atmosphere</th>\n",
       "      <td>0.040739</td>\n",
       "      <td>True</td>\n",
       "      <td>False</td>\n",
       "      <td>False</td>\n",
       "    </tr>\n",
       "    <tr>\n",
       "      <th>vibe</th>\n",
       "      <td>0.011120</td>\n",
       "      <td>True</td>\n",
       "      <td>False</td>\n",
       "      <td>False</td>\n",
       "    </tr>\n",
       "    <tr>\n",
       "      <th>mood</th>\n",
       "      <td>0.004482</td>\n",
       "      <td>True</td>\n",
       "      <td>False</td>\n",
       "      <td>False</td>\n",
       "    </tr>\n",
       "  </tbody>\n",
       "</table>\n",
       "</div>"
      ],
      "text/plain": [
       "               Ratios   Env   Serv     Pr\n",
       "clean        0.023259  True  False  False\n",
       "dirty        0.005477  True  False  False\n",
       "spotless     0.000301  True  False  False\n",
       "sanitary     0.000381  True  False  False\n",
       "shiny        0.000238  True  False  False\n",
       "messy        0.001551  True  False  False\n",
       "environment  0.005662  True  False  False\n",
       "atmosphere   0.040739  True  False  False\n",
       "vibe         0.011120  True  False  False\n",
       "mood         0.004482  True  False  False"
      ]
     },
     "execution_count": 11,
     "metadata": {},
     "output_type": "execute_result"
    }
   ],
   "source": [
    "Ratios.head(10)"
   ]
  },
  {
   "cell_type": "markdown",
   "id": "84299d85",
   "metadata": {},
   "source": [
    "Finally we are at the topic modeling stage.  "
   ]
  },
  {
   "cell_type": "code",
   "execution_count": 12,
   "id": "ea1648ad",
   "metadata": {},
   "outputs": [],
   "source": [
    "def topic_modeler(reviews, Ratios):\n",
    "    #This function creates analyzes each sentence in the reviews, and assigns a topic distribution to them.\n",
    "    #The sentiment of the sentence will also be analyzed using Flair package\n",
    "    from flair.models import TextClassifier\n",
    "    from flair.data import Sentence\n",
    "    import re\n",
    "    \n",
    "    #For checking Flair datatype\n",
    "    def isfloat(value):\n",
    "      try:\n",
    "        float(value)\n",
    "        return True\n",
    "      except ValueError:\n",
    "        return False\n",
    "    sia = TextClassifier.load('en-sentiment')\n",
    "    \n",
    "    #Topic Categorizer to be applied on each review in the dataframe.\n",
    "    #Return dataframe with each row containing a sentence, sentence topic distribution, and sentence sentiment score\n",
    "    def topic_categorizer(paragraph):\n",
    "        #Split paragraph into sentences\n",
    "        sentence_list = nltk.tokenize.sent_tokenize(paragraph)\n",
    "        \n",
    "        #Create Weight list for each topic - we have three topics\n",
    "        Environment_List = []\n",
    "        Service_List = []\n",
    "        Price_List = []\n",
    "\n",
    "        #Go through each sentence\n",
    "        sentence_analyzed = []\n",
    "        sentence_topics = []\n",
    "        sentence_sentiment = []\n",
    "        for sentence in sentence_list:\n",
    "            \n",
    "            #Create dictionary of all counts of keywords in this sentence\n",
    "            count_dict = dict()\n",
    "            for keyword in list(Ratios.index):\n",
    "                counts = sentence.count(keyword)\n",
    "                if counts > 0:\n",
    "                    count_dict[keyword] = counts\n",
    "            \n",
    "            #Append this count information to your Term-Ratios Dataframe\n",
    "            #Calculate the Weighted Ratio of each term\n",
    "             \n",
    "            topic_list = []\n",
    "            if count_dict:\n",
    "                #Pull the TF-IDF Ratios from the Ratios table. This will weigh each matching word accordingly\n",
    "                sent_df = Ratios.join(pd.DataFrame.from_dict(count_dict, orient = 'index'), how = 'inner')\n",
    "                sent_df = sent_df.rename(columns = {0: 'Counts'})\n",
    "                Ratio_sum = ((1/sent_df['Ratios'])*sent_df['Counts']).sum()\n",
    "                sent_df['Weighted_Ratio'] = (1/(sent_df['Ratios'])*sent_df['Counts'])/Ratio_sum\n",
    "                \n",
    "                #Aggregate the terms into the topics specified\n",
    "                sent_gb = sent_df.groupby(['Env','Serv','Pr'],as_index = False)['Weighted_Ratio'].sum()\n",
    "                \n",
    "                #Append these to the original lists\n",
    "                if sent_gb['Env'].any() == True:\n",
    "                    topic_list.append(sent_gb[sent_gb['Env'] == True].reset_index().iloc[0]['Weighted_Ratio'])\n",
    "                else:\n",
    "                    topic_list.append(0)\n",
    "                if sent_gb['Serv'].any() == True:\n",
    "                    topic_list.append(sent_gb[sent_gb['Serv'] == True].reset_index().iloc[0]['Weighted_Ratio'])\n",
    "                else:\n",
    "                    topic_list.append(0)\n",
    "                if sent_gb['Pr'].any() == True:\n",
    "                    topic_list.append(sent_gb[sent_gb['Pr'] == True].reset_index().iloc[0]['Weighted_Ratio'])\n",
    "                else:\n",
    "                    topic_list.append(0)\n",
    "\n",
    "                #Calculate the Sentiment of the Sentence\n",
    "                sent = Sentence(sentence)\n",
    "                sia.predict(sent)\n",
    "                score = str(sent.labels[0])\n",
    "                score = score.replace('(',' ').replace(')',' ')\n",
    "                number = [float(s) for s in score.split() if isfloat(s) is True]\n",
    "                \n",
    "                if \"POSITIVE\" in score:\n",
    "                    flair_score =  number[0]\n",
    "                elif \"NEGATIVE\" in score:\n",
    "                    flair_score = -number[0]\n",
    "\n",
    "            #Append all processed data to the lists.\n",
    "            if topic_list:\n",
    "                sentence_topics.append(topic_list)\n",
    "                sentence_analyzed.append(sentence)\n",
    "                sentence_sentiment.append(flair_score)\n",
    "                \n",
    "        return sentence_analyzed, sentence_topics, sentence_sentiment\n",
    "    \n",
    "    review_topic = pd.DataFrame()\n",
    "    reviews['Sentence'], reviews['Sentence Topics'], reviews['Sentence Sentiment'] = zip(*reviews.text.apply(topic_categorizer))\n",
    "\n",
    "    return reviews\n"
   ]
  },
  {
   "cell_type": "code",
   "execution_count": 17,
   "id": "f55234f4",
   "metadata": {},
   "outputs": [
    {
     "name": "stdout",
     "output_type": "stream",
     "text": [
      "2021-12-31 20:16:48,561 loading file C:\\Users\\kenhu\\.flair\\models\\sentiment-en-mix-distillbert_4.pt\n",
      "2021-12-31 20:18:00,385 loading file C:\\Users\\kenhu\\.flair\\models\\sentiment-en-mix-distillbert_4.pt\n"
     ]
    },
    {
     "name": "stderr",
     "output_type": "stream",
     "text": [
      "C:\\Users\\kenhu\\anaconda3\\envs\\gpu4\\lib\\site-packages\\pandas\\core\\common.py:208: VisibleDeprecationWarning: Creating an ndarray from ragged nested sequences (which is a list-or-tuple of lists-or-tuples-or ndarrays with different lengths or shapes) is deprecated. If you meant to do this, you must specify 'dtype=object' when creating the ndarray.\n",
      "  result = np.asarray(values, dtype=dtype)\n"
     ]
    },
    {
     "name": "stdout",
     "output_type": "stream",
     "text": [
      "2021-12-31 20:19:12,873 loading file C:\\Users\\kenhu\\.flair\\models\\sentiment-en-mix-distillbert_4.pt\n"
     ]
    },
    {
     "name": "stderr",
     "output_type": "stream",
     "text": [
      "C:\\Users\\kenhu\\anaconda3\\envs\\gpu4\\lib\\site-packages\\pandas\\core\\common.py:208: VisibleDeprecationWarning: Creating an ndarray from ragged nested sequences (which is a list-or-tuple of lists-or-tuples-or ndarrays with different lengths or shapes) is deprecated. If you meant to do this, you must specify 'dtype=object' when creating the ndarray.\n",
      "  result = np.asarray(values, dtype=dtype)\n"
     ]
    },
    {
     "name": "stdout",
     "output_type": "stream",
     "text": [
      "2021-12-31 20:20:24,623 loading file C:\\Users\\kenhu\\.flair\\models\\sentiment-en-mix-distillbert_4.pt\n"
     ]
    },
    {
     "name": "stderr",
     "output_type": "stream",
     "text": [
      "C:\\Users\\kenhu\\anaconda3\\envs\\gpu4\\lib\\site-packages\\pandas\\core\\common.py:208: VisibleDeprecationWarning: Creating an ndarray from ragged nested sequences (which is a list-or-tuple of lists-or-tuples-or ndarrays with different lengths or shapes) is deprecated. If you meant to do this, you must specify 'dtype=object' when creating the ndarray.\n",
      "  result = np.asarray(values, dtype=dtype)\n"
     ]
    },
    {
     "name": "stdout",
     "output_type": "stream",
     "text": [
      "2021-12-31 20:21:35,808 loading file C:\\Users\\kenhu\\.flair\\models\\sentiment-en-mix-distillbert_4.pt\n"
     ]
    },
    {
     "name": "stderr",
     "output_type": "stream",
     "text": [
      "C:\\Users\\kenhu\\anaconda3\\envs\\gpu4\\lib\\site-packages\\pandas\\core\\common.py:208: VisibleDeprecationWarning: Creating an ndarray from ragged nested sequences (which is a list-or-tuple of lists-or-tuples-or ndarrays with different lengths or shapes) is deprecated. If you meant to do this, you must specify 'dtype=object' when creating the ndarray.\n",
      "  result = np.asarray(values, dtype=dtype)\n"
     ]
    },
    {
     "name": "stdout",
     "output_type": "stream",
     "text": [
      "2021-12-31 20:22:43,845 loading file C:\\Users\\kenhu\\.flair\\models\\sentiment-en-mix-distillbert_4.pt\n"
     ]
    },
    {
     "name": "stderr",
     "output_type": "stream",
     "text": [
      "C:\\Users\\kenhu\\anaconda3\\envs\\gpu4\\lib\\site-packages\\pandas\\core\\common.py:208: VisibleDeprecationWarning: Creating an ndarray from ragged nested sequences (which is a list-or-tuple of lists-or-tuples-or ndarrays with different lengths or shapes) is deprecated. If you meant to do this, you must specify 'dtype=object' when creating the ndarray.\n",
      "  result = np.asarray(values, dtype=dtype)\n"
     ]
    },
    {
     "name": "stdout",
     "output_type": "stream",
     "text": [
      "2021-12-31 20:23:56,104 loading file C:\\Users\\kenhu\\.flair\\models\\sentiment-en-mix-distillbert_4.pt\n"
     ]
    },
    {
     "name": "stderr",
     "output_type": "stream",
     "text": [
      "C:\\Users\\kenhu\\anaconda3\\envs\\gpu4\\lib\\site-packages\\pandas\\core\\common.py:208: VisibleDeprecationWarning: Creating an ndarray from ragged nested sequences (which is a list-or-tuple of lists-or-tuples-or ndarrays with different lengths or shapes) is deprecated. If you meant to do this, you must specify 'dtype=object' when creating the ndarray.\n",
      "  result = np.asarray(values, dtype=dtype)\n"
     ]
    },
    {
     "name": "stdout",
     "output_type": "stream",
     "text": [
      "2021-12-31 20:25:10,514 loading file C:\\Users\\kenhu\\.flair\\models\\sentiment-en-mix-distillbert_4.pt\n"
     ]
    },
    {
     "name": "stderr",
     "output_type": "stream",
     "text": [
      "C:\\Users\\kenhu\\anaconda3\\envs\\gpu4\\lib\\site-packages\\pandas\\core\\common.py:208: VisibleDeprecationWarning: Creating an ndarray from ragged nested sequences (which is a list-or-tuple of lists-or-tuples-or ndarrays with different lengths or shapes) is deprecated. If you meant to do this, you must specify 'dtype=object' when creating the ndarray.\n",
      "  result = np.asarray(values, dtype=dtype)\n"
     ]
    },
    {
     "name": "stdout",
     "output_type": "stream",
     "text": [
      "2021-12-31 20:26:19,183 loading file C:\\Users\\kenhu\\.flair\\models\\sentiment-en-mix-distillbert_4.pt\n"
     ]
    },
    {
     "name": "stderr",
     "output_type": "stream",
     "text": [
      "C:\\Users\\kenhu\\anaconda3\\envs\\gpu4\\lib\\site-packages\\pandas\\core\\common.py:208: VisibleDeprecationWarning: Creating an ndarray from ragged nested sequences (which is a list-or-tuple of lists-or-tuples-or ndarrays with different lengths or shapes) is deprecated. If you meant to do this, you must specify 'dtype=object' when creating the ndarray.\n",
      "  result = np.asarray(values, dtype=dtype)\n"
     ]
    },
    {
     "name": "stdout",
     "output_type": "stream",
     "text": [
      "2021-12-31 20:27:32,084 loading file C:\\Users\\kenhu\\.flair\\models\\sentiment-en-mix-distillbert_4.pt\n"
     ]
    },
    {
     "name": "stderr",
     "output_type": "stream",
     "text": [
      "C:\\Users\\kenhu\\anaconda3\\envs\\gpu4\\lib\\site-packages\\pandas\\core\\common.py:208: VisibleDeprecationWarning: Creating an ndarray from ragged nested sequences (which is a list-or-tuple of lists-or-tuples-or ndarrays with different lengths or shapes) is deprecated. If you meant to do this, you must specify 'dtype=object' when creating the ndarray.\n",
      "  result = np.asarray(values, dtype=dtype)\n"
     ]
    },
    {
     "name": "stdout",
     "output_type": "stream",
     "text": [
      "2021-12-31 20:28:49,549 loading file C:\\Users\\kenhu\\.flair\\models\\sentiment-en-mix-distillbert_4.pt\n"
     ]
    },
    {
     "name": "stderr",
     "output_type": "stream",
     "text": [
      "C:\\Users\\kenhu\\anaconda3\\envs\\gpu4\\lib\\site-packages\\pandas\\core\\common.py:208: VisibleDeprecationWarning: Creating an ndarray from ragged nested sequences (which is a list-or-tuple of lists-or-tuples-or ndarrays with different lengths or shapes) is deprecated. If you meant to do this, you must specify 'dtype=object' when creating the ndarray.\n",
      "  result = np.asarray(values, dtype=dtype)\n"
     ]
    },
    {
     "name": "stdout",
     "output_type": "stream",
     "text": [
      "2021-12-31 20:30:05,963 loading file C:\\Users\\kenhu\\.flair\\models\\sentiment-en-mix-distillbert_4.pt\n"
     ]
    },
    {
     "name": "stderr",
     "output_type": "stream",
     "text": [
      "C:\\Users\\kenhu\\anaconda3\\envs\\gpu4\\lib\\site-packages\\pandas\\core\\common.py:208: VisibleDeprecationWarning: Creating an ndarray from ragged nested sequences (which is a list-or-tuple of lists-or-tuples-or ndarrays with different lengths or shapes) is deprecated. If you meant to do this, you must specify 'dtype=object' when creating the ndarray.\n",
      "  result = np.asarray(values, dtype=dtype)\n"
     ]
    },
    {
     "name": "stdout",
     "output_type": "stream",
     "text": [
      "2021-12-31 20:31:05,029 loading file C:\\Users\\kenhu\\.flair\\models\\sentiment-en-mix-distillbert_4.pt\n"
     ]
    },
    {
     "name": "stderr",
     "output_type": "stream",
     "text": [
      "C:\\Users\\kenhu\\anaconda3\\envs\\gpu4\\lib\\site-packages\\pandas\\core\\common.py:208: VisibleDeprecationWarning: Creating an ndarray from ragged nested sequences (which is a list-or-tuple of lists-or-tuples-or ndarrays with different lengths or shapes) is deprecated. If you meant to do this, you must specify 'dtype=object' when creating the ndarray.\n",
      "  result = np.asarray(values, dtype=dtype)\n"
     ]
    },
    {
     "name": "stdout",
     "output_type": "stream",
     "text": [
      "2021-12-31 20:32:22,512 loading file C:\\Users\\kenhu\\.flair\\models\\sentiment-en-mix-distillbert_4.pt\n"
     ]
    },
    {
     "name": "stderr",
     "output_type": "stream",
     "text": [
      "C:\\Users\\kenhu\\anaconda3\\envs\\gpu4\\lib\\site-packages\\pandas\\core\\common.py:208: VisibleDeprecationWarning: Creating an ndarray from ragged nested sequences (which is a list-or-tuple of lists-or-tuples-or ndarrays with different lengths or shapes) is deprecated. If you meant to do this, you must specify 'dtype=object' when creating the ndarray.\n",
      "  result = np.asarray(values, dtype=dtype)\n"
     ]
    },
    {
     "name": "stdout",
     "output_type": "stream",
     "text": [
      "2021-12-31 20:33:41,377 loading file C:\\Users\\kenhu\\.flair\\models\\sentiment-en-mix-distillbert_4.pt\n"
     ]
    },
    {
     "name": "stderr",
     "output_type": "stream",
     "text": [
      "C:\\Users\\kenhu\\anaconda3\\envs\\gpu4\\lib\\site-packages\\pandas\\core\\common.py:208: VisibleDeprecationWarning: Creating an ndarray from ragged nested sequences (which is a list-or-tuple of lists-or-tuples-or ndarrays with different lengths or shapes) is deprecated. If you meant to do this, you must specify 'dtype=object' when creating the ndarray.\n",
      "  result = np.asarray(values, dtype=dtype)\n"
     ]
    },
    {
     "name": "stdout",
     "output_type": "stream",
     "text": [
      "2021-12-31 20:34:57,457 loading file C:\\Users\\kenhu\\.flair\\models\\sentiment-en-mix-distillbert_4.pt\n"
     ]
    },
    {
     "name": "stderr",
     "output_type": "stream",
     "text": [
      "C:\\Users\\kenhu\\anaconda3\\envs\\gpu4\\lib\\site-packages\\pandas\\core\\common.py:208: VisibleDeprecationWarning: Creating an ndarray from ragged nested sequences (which is a list-or-tuple of lists-or-tuples-or ndarrays with different lengths or shapes) is deprecated. If you meant to do this, you must specify 'dtype=object' when creating the ndarray.\n",
      "  result = np.asarray(values, dtype=dtype)\n"
     ]
    },
    {
     "name": "stdout",
     "output_type": "stream",
     "text": [
      "2021-12-31 20:36:05,379 loading file C:\\Users\\kenhu\\.flair\\models\\sentiment-en-mix-distillbert_4.pt\n"
     ]
    },
    {
     "name": "stderr",
     "output_type": "stream",
     "text": [
      "C:\\Users\\kenhu\\anaconda3\\envs\\gpu4\\lib\\site-packages\\pandas\\core\\common.py:208: VisibleDeprecationWarning: Creating an ndarray from ragged nested sequences (which is a list-or-tuple of lists-or-tuples-or ndarrays with different lengths or shapes) is deprecated. If you meant to do this, you must specify 'dtype=object' when creating the ndarray.\n",
      "  result = np.asarray(values, dtype=dtype)\n"
     ]
    },
    {
     "name": "stdout",
     "output_type": "stream",
     "text": [
      "2021-12-31 20:37:16,118 loading file C:\\Users\\kenhu\\.flair\\models\\sentiment-en-mix-distillbert_4.pt\n"
     ]
    },
    {
     "name": "stderr",
     "output_type": "stream",
     "text": [
      "C:\\Users\\kenhu\\anaconda3\\envs\\gpu4\\lib\\site-packages\\pandas\\core\\common.py:208: VisibleDeprecationWarning: Creating an ndarray from ragged nested sequences (which is a list-or-tuple of lists-or-tuples-or ndarrays with different lengths or shapes) is deprecated. If you meant to do this, you must specify 'dtype=object' when creating the ndarray.\n",
      "  result = np.asarray(values, dtype=dtype)\n"
     ]
    },
    {
     "name": "stdout",
     "output_type": "stream",
     "text": [
      "2021-12-31 20:38:34,329 loading file C:\\Users\\kenhu\\.flair\\models\\sentiment-en-mix-distillbert_4.pt\n"
     ]
    },
    {
     "name": "stderr",
     "output_type": "stream",
     "text": [
      "C:\\Users\\kenhu\\anaconda3\\envs\\gpu4\\lib\\site-packages\\pandas\\core\\common.py:208: VisibleDeprecationWarning: Creating an ndarray from ragged nested sequences (which is a list-or-tuple of lists-or-tuples-or ndarrays with different lengths or shapes) is deprecated. If you meant to do this, you must specify 'dtype=object' when creating the ndarray.\n",
      "  result = np.asarray(values, dtype=dtype)\n"
     ]
    },
    {
     "name": "stdout",
     "output_type": "stream",
     "text": [
      "2021-12-31 20:39:52,792 loading file C:\\Users\\kenhu\\.flair\\models\\sentiment-en-mix-distillbert_4.pt\n"
     ]
    },
    {
     "name": "stderr",
     "output_type": "stream",
     "text": [
      "C:\\Users\\kenhu\\anaconda3\\envs\\gpu4\\lib\\site-packages\\pandas\\core\\common.py:208: VisibleDeprecationWarning: Creating an ndarray from ragged nested sequences (which is a list-or-tuple of lists-or-tuples-or ndarrays with different lengths or shapes) is deprecated. If you meant to do this, you must specify 'dtype=object' when creating the ndarray.\n",
      "  result = np.asarray(values, dtype=dtype)\n"
     ]
    },
    {
     "name": "stdout",
     "output_type": "stream",
     "text": [
      "2021-12-31 20:41:07,869 loading file C:\\Users\\kenhu\\.flair\\models\\sentiment-en-mix-distillbert_4.pt\n"
     ]
    },
    {
     "name": "stderr",
     "output_type": "stream",
     "text": [
      "C:\\Users\\kenhu\\anaconda3\\envs\\gpu4\\lib\\site-packages\\pandas\\core\\common.py:208: VisibleDeprecationWarning: Creating an ndarray from ragged nested sequences (which is a list-or-tuple of lists-or-tuples-or ndarrays with different lengths or shapes) is deprecated. If you meant to do this, you must specify 'dtype=object' when creating the ndarray.\n",
      "  result = np.asarray(values, dtype=dtype)\n"
     ]
    },
    {
     "name": "stdout",
     "output_type": "stream",
     "text": [
      "2021-12-31 20:42:15,617 loading file C:\\Users\\kenhu\\.flair\\models\\sentiment-en-mix-distillbert_4.pt\n"
     ]
    },
    {
     "name": "stderr",
     "output_type": "stream",
     "text": [
      "C:\\Users\\kenhu\\anaconda3\\envs\\gpu4\\lib\\site-packages\\pandas\\core\\common.py:208: VisibleDeprecationWarning: Creating an ndarray from ragged nested sequences (which is a list-or-tuple of lists-or-tuples-or ndarrays with different lengths or shapes) is deprecated. If you meant to do this, you must specify 'dtype=object' when creating the ndarray.\n",
      "  result = np.asarray(values, dtype=dtype)\n"
     ]
    },
    {
     "name": "stdout",
     "output_type": "stream",
     "text": [
      "2021-12-31 20:43:25,318 loading file C:\\Users\\kenhu\\.flair\\models\\sentiment-en-mix-distillbert_4.pt\n"
     ]
    },
    {
     "name": "stderr",
     "output_type": "stream",
     "text": [
      "C:\\Users\\kenhu\\anaconda3\\envs\\gpu4\\lib\\site-packages\\pandas\\core\\common.py:208: VisibleDeprecationWarning: Creating an ndarray from ragged nested sequences (which is a list-or-tuple of lists-or-tuples-or ndarrays with different lengths or shapes) is deprecated. If you meant to do this, you must specify 'dtype=object' when creating the ndarray.\n",
      "  result = np.asarray(values, dtype=dtype)\n"
     ]
    },
    {
     "name": "stdout",
     "output_type": "stream",
     "text": [
      "2021-12-31 20:44:36,473 loading file C:\\Users\\kenhu\\.flair\\models\\sentiment-en-mix-distillbert_4.pt\n"
     ]
    },
    {
     "name": "stderr",
     "output_type": "stream",
     "text": [
      "C:\\Users\\kenhu\\anaconda3\\envs\\gpu4\\lib\\site-packages\\pandas\\core\\common.py:208: VisibleDeprecationWarning: Creating an ndarray from ragged nested sequences (which is a list-or-tuple of lists-or-tuples-or ndarrays with different lengths or shapes) is deprecated. If you meant to do this, you must specify 'dtype=object' when creating the ndarray.\n",
      "  result = np.asarray(values, dtype=dtype)\n"
     ]
    },
    {
     "name": "stdout",
     "output_type": "stream",
     "text": [
      "2021-12-31 20:45:53,068 loading file C:\\Users\\kenhu\\.flair\\models\\sentiment-en-mix-distillbert_4.pt\n"
     ]
    },
    {
     "name": "stderr",
     "output_type": "stream",
     "text": [
      "C:\\Users\\kenhu\\anaconda3\\envs\\gpu4\\lib\\site-packages\\pandas\\core\\common.py:208: VisibleDeprecationWarning: Creating an ndarray from ragged nested sequences (which is a list-or-tuple of lists-or-tuples-or ndarrays with different lengths or shapes) is deprecated. If you meant to do this, you must specify 'dtype=object' when creating the ndarray.\n",
      "  result = np.asarray(values, dtype=dtype)\n"
     ]
    },
    {
     "name": "stdout",
     "output_type": "stream",
     "text": [
      "2021-12-31 20:47:04,941 loading file C:\\Users\\kenhu\\.flair\\models\\sentiment-en-mix-distillbert_4.pt\n"
     ]
    },
    {
     "name": "stderr",
     "output_type": "stream",
     "text": [
      "C:\\Users\\kenhu\\anaconda3\\envs\\gpu4\\lib\\site-packages\\pandas\\core\\common.py:208: VisibleDeprecationWarning: Creating an ndarray from ragged nested sequences (which is a list-or-tuple of lists-or-tuples-or ndarrays with different lengths or shapes) is deprecated. If you meant to do this, you must specify 'dtype=object' when creating the ndarray.\n",
      "  result = np.asarray(values, dtype=dtype)\n"
     ]
    },
    {
     "name": "stdout",
     "output_type": "stream",
     "text": [
      "2021-12-31 20:48:15,300 loading file C:\\Users\\kenhu\\.flair\\models\\sentiment-en-mix-distillbert_4.pt\n"
     ]
    },
    {
     "name": "stderr",
     "output_type": "stream",
     "text": [
      "C:\\Users\\kenhu\\anaconda3\\envs\\gpu4\\lib\\site-packages\\pandas\\core\\common.py:208: VisibleDeprecationWarning: Creating an ndarray from ragged nested sequences (which is a list-or-tuple of lists-or-tuples-or ndarrays with different lengths or shapes) is deprecated. If you meant to do this, you must specify 'dtype=object' when creating the ndarray.\n",
      "  result = np.asarray(values, dtype=dtype)\n"
     ]
    },
    {
     "name": "stdout",
     "output_type": "stream",
     "text": [
      "2021-12-31 20:49:27,264 loading file C:\\Users\\kenhu\\.flair\\models\\sentiment-en-mix-distillbert_4.pt\n"
     ]
    },
    {
     "name": "stderr",
     "output_type": "stream",
     "text": [
      "C:\\Users\\kenhu\\anaconda3\\envs\\gpu4\\lib\\site-packages\\pandas\\core\\common.py:208: VisibleDeprecationWarning: Creating an ndarray from ragged nested sequences (which is a list-or-tuple of lists-or-tuples-or ndarrays with different lengths or shapes) is deprecated. If you meant to do this, you must specify 'dtype=object' when creating the ndarray.\n",
      "  result = np.asarray(values, dtype=dtype)\n"
     ]
    },
    {
     "name": "stdout",
     "output_type": "stream",
     "text": [
      "2021-12-31 20:50:35,000 loading file C:\\Users\\kenhu\\.flair\\models\\sentiment-en-mix-distillbert_4.pt\n"
     ]
    },
    {
     "name": "stderr",
     "output_type": "stream",
     "text": [
      "C:\\Users\\kenhu\\anaconda3\\envs\\gpu4\\lib\\site-packages\\pandas\\core\\common.py:208: VisibleDeprecationWarning: Creating an ndarray from ragged nested sequences (which is a list-or-tuple of lists-or-tuples-or ndarrays with different lengths or shapes) is deprecated. If you meant to do this, you must specify 'dtype=object' when creating the ndarray.\n",
      "  result = np.asarray(values, dtype=dtype)\n"
     ]
    },
    {
     "name": "stdout",
     "output_type": "stream",
     "text": [
      "2021-12-31 20:51:57,128 loading file C:\\Users\\kenhu\\.flair\\models\\sentiment-en-mix-distillbert_4.pt\n"
     ]
    },
    {
     "name": "stderr",
     "output_type": "stream",
     "text": [
      "C:\\Users\\kenhu\\anaconda3\\envs\\gpu4\\lib\\site-packages\\pandas\\core\\common.py:208: VisibleDeprecationWarning: Creating an ndarray from ragged nested sequences (which is a list-or-tuple of lists-or-tuples-or ndarrays with different lengths or shapes) is deprecated. If you meant to do this, you must specify 'dtype=object' when creating the ndarray.\n",
      "  result = np.asarray(values, dtype=dtype)\n"
     ]
    },
    {
     "name": "stdout",
     "output_type": "stream",
     "text": [
      "2021-12-31 20:53:07,470 loading file C:\\Users\\kenhu\\.flair\\models\\sentiment-en-mix-distillbert_4.pt\n"
     ]
    },
    {
     "name": "stderr",
     "output_type": "stream",
     "text": [
      "C:\\Users\\kenhu\\anaconda3\\envs\\gpu4\\lib\\site-packages\\pandas\\core\\common.py:208: VisibleDeprecationWarning: Creating an ndarray from ragged nested sequences (which is a list-or-tuple of lists-or-tuples-or ndarrays with different lengths or shapes) is deprecated. If you meant to do this, you must specify 'dtype=object' when creating the ndarray.\n",
      "  result = np.asarray(values, dtype=dtype)\n"
     ]
    },
    {
     "name": "stdout",
     "output_type": "stream",
     "text": [
      "2021-12-31 20:54:18,106 loading file C:\\Users\\kenhu\\.flair\\models\\sentiment-en-mix-distillbert_4.pt\n"
     ]
    },
    {
     "name": "stderr",
     "output_type": "stream",
     "text": [
      "C:\\Users\\kenhu\\anaconda3\\envs\\gpu4\\lib\\site-packages\\pandas\\core\\common.py:208: VisibleDeprecationWarning: Creating an ndarray from ragged nested sequences (which is a list-or-tuple of lists-or-tuples-or ndarrays with different lengths or shapes) is deprecated. If you meant to do this, you must specify 'dtype=object' when creating the ndarray.\n",
      "  result = np.asarray(values, dtype=dtype)\n"
     ]
    },
    {
     "name": "stdout",
     "output_type": "stream",
     "text": [
      "2021-12-31 20:55:31,286 loading file C:\\Users\\kenhu\\.flair\\models\\sentiment-en-mix-distillbert_4.pt\n"
     ]
    },
    {
     "name": "stderr",
     "output_type": "stream",
     "text": [
      "C:\\Users\\kenhu\\anaconda3\\envs\\gpu4\\lib\\site-packages\\pandas\\core\\common.py:208: VisibleDeprecationWarning: Creating an ndarray from ragged nested sequences (which is a list-or-tuple of lists-or-tuples-or ndarrays with different lengths or shapes) is deprecated. If you meant to do this, you must specify 'dtype=object' when creating the ndarray.\n",
      "  result = np.asarray(values, dtype=dtype)\n"
     ]
    },
    {
     "name": "stdout",
     "output_type": "stream",
     "text": [
      "2021-12-31 20:56:45,950 loading file C:\\Users\\kenhu\\.flair\\models\\sentiment-en-mix-distillbert_4.pt\n"
     ]
    },
    {
     "name": "stderr",
     "output_type": "stream",
     "text": [
      "C:\\Users\\kenhu\\anaconda3\\envs\\gpu4\\lib\\site-packages\\pandas\\core\\common.py:208: VisibleDeprecationWarning: Creating an ndarray from ragged nested sequences (which is a list-or-tuple of lists-or-tuples-or ndarrays with different lengths or shapes) is deprecated. If you meant to do this, you must specify 'dtype=object' when creating the ndarray.\n",
      "  result = np.asarray(values, dtype=dtype)\n"
     ]
    },
    {
     "name": "stdout",
     "output_type": "stream",
     "text": [
      "2021-12-31 20:58:01,568 loading file C:\\Users\\kenhu\\.flair\\models\\sentiment-en-mix-distillbert_4.pt\n"
     ]
    },
    {
     "name": "stderr",
     "output_type": "stream",
     "text": [
      "C:\\Users\\kenhu\\anaconda3\\envs\\gpu4\\lib\\site-packages\\pandas\\core\\common.py:208: VisibleDeprecationWarning: Creating an ndarray from ragged nested sequences (which is a list-or-tuple of lists-or-tuples-or ndarrays with different lengths or shapes) is deprecated. If you meant to do this, you must specify 'dtype=object' when creating the ndarray.\n",
      "  result = np.asarray(values, dtype=dtype)\n"
     ]
    },
    {
     "name": "stdout",
     "output_type": "stream",
     "text": [
      "2021-12-31 20:59:18,670 loading file C:\\Users\\kenhu\\.flair\\models\\sentiment-en-mix-distillbert_4.pt\n"
     ]
    },
    {
     "name": "stderr",
     "output_type": "stream",
     "text": [
      "C:\\Users\\kenhu\\anaconda3\\envs\\gpu4\\lib\\site-packages\\pandas\\core\\common.py:208: VisibleDeprecationWarning: Creating an ndarray from ragged nested sequences (which is a list-or-tuple of lists-or-tuples-or ndarrays with different lengths or shapes) is deprecated. If you meant to do this, you must specify 'dtype=object' when creating the ndarray.\n",
      "  result = np.asarray(values, dtype=dtype)\n"
     ]
    },
    {
     "name": "stdout",
     "output_type": "stream",
     "text": [
      "2021-12-31 21:00:27,453 loading file C:\\Users\\kenhu\\.flair\\models\\sentiment-en-mix-distillbert_4.pt\n"
     ]
    },
    {
     "name": "stderr",
     "output_type": "stream",
     "text": [
      "C:\\Users\\kenhu\\anaconda3\\envs\\gpu4\\lib\\site-packages\\pandas\\core\\common.py:208: VisibleDeprecationWarning: Creating an ndarray from ragged nested sequences (which is a list-or-tuple of lists-or-tuples-or ndarrays with different lengths or shapes) is deprecated. If you meant to do this, you must specify 'dtype=object' when creating the ndarray.\n",
      "  result = np.asarray(values, dtype=dtype)\n"
     ]
    },
    {
     "name": "stdout",
     "output_type": "stream",
     "text": [
      "2021-12-31 21:01:45,039 loading file C:\\Users\\kenhu\\.flair\\models\\sentiment-en-mix-distillbert_4.pt\n"
     ]
    },
    {
     "name": "stderr",
     "output_type": "stream",
     "text": [
      "C:\\Users\\kenhu\\anaconda3\\envs\\gpu4\\lib\\site-packages\\pandas\\core\\common.py:208: VisibleDeprecationWarning: Creating an ndarray from ragged nested sequences (which is a list-or-tuple of lists-or-tuples-or ndarrays with different lengths or shapes) is deprecated. If you meant to do this, you must specify 'dtype=object' when creating the ndarray.\n",
      "  result = np.asarray(values, dtype=dtype)\n"
     ]
    },
    {
     "name": "stdout",
     "output_type": "stream",
     "text": [
      "2021-12-31 21:03:00,934 loading file C:\\Users\\kenhu\\.flair\\models\\sentiment-en-mix-distillbert_4.pt\n"
     ]
    },
    {
     "name": "stderr",
     "output_type": "stream",
     "text": [
      "C:\\Users\\kenhu\\anaconda3\\envs\\gpu4\\lib\\site-packages\\pandas\\core\\common.py:208: VisibleDeprecationWarning: Creating an ndarray from ragged nested sequences (which is a list-or-tuple of lists-or-tuples-or ndarrays with different lengths or shapes) is deprecated. If you meant to do this, you must specify 'dtype=object' when creating the ndarray.\n",
      "  result = np.asarray(values, dtype=dtype)\n"
     ]
    },
    {
     "name": "stdout",
     "output_type": "stream",
     "text": [
      "2021-12-31 21:04:05,780 loading file C:\\Users\\kenhu\\.flair\\models\\sentiment-en-mix-distillbert_4.pt\n"
     ]
    },
    {
     "name": "stderr",
     "output_type": "stream",
     "text": [
      "C:\\Users\\kenhu\\anaconda3\\envs\\gpu4\\lib\\site-packages\\pandas\\core\\common.py:208: VisibleDeprecationWarning: Creating an ndarray from ragged nested sequences (which is a list-or-tuple of lists-or-tuples-or ndarrays with different lengths or shapes) is deprecated. If you meant to do this, you must specify 'dtype=object' when creating the ndarray.\n",
      "  result = np.asarray(values, dtype=dtype)\n"
     ]
    },
    {
     "name": "stdout",
     "output_type": "stream",
     "text": [
      "2021-12-31 21:05:21,471 loading file C:\\Users\\kenhu\\.flair\\models\\sentiment-en-mix-distillbert_4.pt\n"
     ]
    },
    {
     "name": "stderr",
     "output_type": "stream",
     "text": [
      "C:\\Users\\kenhu\\anaconda3\\envs\\gpu4\\lib\\site-packages\\pandas\\core\\common.py:208: VisibleDeprecationWarning: Creating an ndarray from ragged nested sequences (which is a list-or-tuple of lists-or-tuples-or ndarrays with different lengths or shapes) is deprecated. If you meant to do this, you must specify 'dtype=object' when creating the ndarray.\n",
      "  result = np.asarray(values, dtype=dtype)\n"
     ]
    },
    {
     "name": "stdout",
     "output_type": "stream",
     "text": [
      "2021-12-31 21:06:37,037 loading file C:\\Users\\kenhu\\.flair\\models\\sentiment-en-mix-distillbert_4.pt\n"
     ]
    },
    {
     "name": "stderr",
     "output_type": "stream",
     "text": [
      "C:\\Users\\kenhu\\anaconda3\\envs\\gpu4\\lib\\site-packages\\pandas\\core\\common.py:208: VisibleDeprecationWarning: Creating an ndarray from ragged nested sequences (which is a list-or-tuple of lists-or-tuples-or ndarrays with different lengths or shapes) is deprecated. If you meant to do this, you must specify 'dtype=object' when creating the ndarray.\n",
      "  result = np.asarray(values, dtype=dtype)\n"
     ]
    },
    {
     "name": "stdout",
     "output_type": "stream",
     "text": [
      "2021-12-31 21:07:56,583 loading file C:\\Users\\kenhu\\.flair\\models\\sentiment-en-mix-distillbert_4.pt\n"
     ]
    },
    {
     "name": "stderr",
     "output_type": "stream",
     "text": [
      "C:\\Users\\kenhu\\anaconda3\\envs\\gpu4\\lib\\site-packages\\pandas\\core\\common.py:208: VisibleDeprecationWarning: Creating an ndarray from ragged nested sequences (which is a list-or-tuple of lists-or-tuples-or ndarrays with different lengths or shapes) is deprecated. If you meant to do this, you must specify 'dtype=object' when creating the ndarray.\n",
      "  result = np.asarray(values, dtype=dtype)\n"
     ]
    },
    {
     "name": "stdout",
     "output_type": "stream",
     "text": [
      "2021-12-31 21:09:12,084 loading file C:\\Users\\kenhu\\.flair\\models\\sentiment-en-mix-distillbert_4.pt\n"
     ]
    },
    {
     "name": "stderr",
     "output_type": "stream",
     "text": [
      "C:\\Users\\kenhu\\anaconda3\\envs\\gpu4\\lib\\site-packages\\pandas\\core\\common.py:208: VisibleDeprecationWarning: Creating an ndarray from ragged nested sequences (which is a list-or-tuple of lists-or-tuples-or ndarrays with different lengths or shapes) is deprecated. If you meant to do this, you must specify 'dtype=object' when creating the ndarray.\n",
      "  result = np.asarray(values, dtype=dtype)\n"
     ]
    },
    {
     "name": "stdout",
     "output_type": "stream",
     "text": [
      "2021-12-31 21:10:23,837 loading file C:\\Users\\kenhu\\.flair\\models\\sentiment-en-mix-distillbert_4.pt\n"
     ]
    },
    {
     "name": "stderr",
     "output_type": "stream",
     "text": [
      "C:\\Users\\kenhu\\anaconda3\\envs\\gpu4\\lib\\site-packages\\pandas\\core\\common.py:208: VisibleDeprecationWarning: Creating an ndarray from ragged nested sequences (which is a list-or-tuple of lists-or-tuples-or ndarrays with different lengths or shapes) is deprecated. If you meant to do this, you must specify 'dtype=object' when creating the ndarray.\n",
      "  result = np.asarray(values, dtype=dtype)\n"
     ]
    },
    {
     "name": "stdout",
     "output_type": "stream",
     "text": [
      "2021-12-31 21:11:37,385 loading file C:\\Users\\kenhu\\.flair\\models\\sentiment-en-mix-distillbert_4.pt\n"
     ]
    },
    {
     "name": "stderr",
     "output_type": "stream",
     "text": [
      "C:\\Users\\kenhu\\anaconda3\\envs\\gpu4\\lib\\site-packages\\pandas\\core\\common.py:208: VisibleDeprecationWarning: Creating an ndarray from ragged nested sequences (which is a list-or-tuple of lists-or-tuples-or ndarrays with different lengths or shapes) is deprecated. If you meant to do this, you must specify 'dtype=object' when creating the ndarray.\n",
      "  result = np.asarray(values, dtype=dtype)\n"
     ]
    },
    {
     "name": "stdout",
     "output_type": "stream",
     "text": [
      "2021-12-31 21:12:55,671 loading file C:\\Users\\kenhu\\.flair\\models\\sentiment-en-mix-distillbert_4.pt\n"
     ]
    },
    {
     "name": "stderr",
     "output_type": "stream",
     "text": [
      "C:\\Users\\kenhu\\anaconda3\\envs\\gpu4\\lib\\site-packages\\pandas\\core\\common.py:208: VisibleDeprecationWarning: Creating an ndarray from ragged nested sequences (which is a list-or-tuple of lists-or-tuples-or ndarrays with different lengths or shapes) is deprecated. If you meant to do this, you must specify 'dtype=object' when creating the ndarray.\n",
      "  result = np.asarray(values, dtype=dtype)\n"
     ]
    },
    {
     "name": "stdout",
     "output_type": "stream",
     "text": [
      "2021-12-31 21:14:06,318 loading file C:\\Users\\kenhu\\.flair\\models\\sentiment-en-mix-distillbert_4.pt\n"
     ]
    },
    {
     "name": "stderr",
     "output_type": "stream",
     "text": [
      "C:\\Users\\kenhu\\anaconda3\\envs\\gpu4\\lib\\site-packages\\pandas\\core\\common.py:208: VisibleDeprecationWarning: Creating an ndarray from ragged nested sequences (which is a list-or-tuple of lists-or-tuples-or ndarrays with different lengths or shapes) is deprecated. If you meant to do this, you must specify 'dtype=object' when creating the ndarray.\n",
      "  result = np.asarray(values, dtype=dtype)\n"
     ]
    },
    {
     "name": "stdout",
     "output_type": "stream",
     "text": [
      "2021-12-31 21:15:21,437 loading file C:\\Users\\kenhu\\.flair\\models\\sentiment-en-mix-distillbert_4.pt\n"
     ]
    },
    {
     "name": "stderr",
     "output_type": "stream",
     "text": [
      "C:\\Users\\kenhu\\anaconda3\\envs\\gpu4\\lib\\site-packages\\pandas\\core\\common.py:208: VisibleDeprecationWarning: Creating an ndarray from ragged nested sequences (which is a list-or-tuple of lists-or-tuples-or ndarrays with different lengths or shapes) is deprecated. If you meant to do this, you must specify 'dtype=object' when creating the ndarray.\n",
      "  result = np.asarray(values, dtype=dtype)\n"
     ]
    },
    {
     "name": "stdout",
     "output_type": "stream",
     "text": [
      "2021-12-31 21:16:31,164 loading file C:\\Users\\kenhu\\.flair\\models\\sentiment-en-mix-distillbert_4.pt\n"
     ]
    },
    {
     "name": "stderr",
     "output_type": "stream",
     "text": [
      "C:\\Users\\kenhu\\anaconda3\\envs\\gpu4\\lib\\site-packages\\pandas\\core\\common.py:208: VisibleDeprecationWarning: Creating an ndarray from ragged nested sequences (which is a list-or-tuple of lists-or-tuples-or ndarrays with different lengths or shapes) is deprecated. If you meant to do this, you must specify 'dtype=object' when creating the ndarray.\n",
      "  result = np.asarray(values, dtype=dtype)\n"
     ]
    },
    {
     "name": "stdout",
     "output_type": "stream",
     "text": [
      "2021-12-31 21:17:40,124 loading file C:\\Users\\kenhu\\.flair\\models\\sentiment-en-mix-distillbert_4.pt\n"
     ]
    },
    {
     "name": "stderr",
     "output_type": "stream",
     "text": [
      "C:\\Users\\kenhu\\anaconda3\\envs\\gpu4\\lib\\site-packages\\pandas\\core\\common.py:208: VisibleDeprecationWarning: Creating an ndarray from ragged nested sequences (which is a list-or-tuple of lists-or-tuples-or ndarrays with different lengths or shapes) is deprecated. If you meant to do this, you must specify 'dtype=object' when creating the ndarray.\n",
      "  result = np.asarray(values, dtype=dtype)\n"
     ]
    },
    {
     "name": "stdout",
     "output_type": "stream",
     "text": [
      "2021-12-31 21:18:56,461 loading file C:\\Users\\kenhu\\.flair\\models\\sentiment-en-mix-distillbert_4.pt\n"
     ]
    },
    {
     "name": "stderr",
     "output_type": "stream",
     "text": [
      "C:\\Users\\kenhu\\anaconda3\\envs\\gpu4\\lib\\site-packages\\pandas\\core\\common.py:208: VisibleDeprecationWarning: Creating an ndarray from ragged nested sequences (which is a list-or-tuple of lists-or-tuples-or ndarrays with different lengths or shapes) is deprecated. If you meant to do this, you must specify 'dtype=object' when creating the ndarray.\n",
      "  result = np.asarray(values, dtype=dtype)\n"
     ]
    },
    {
     "name": "stdout",
     "output_type": "stream",
     "text": [
      "2021-12-31 21:20:10,547 loading file C:\\Users\\kenhu\\.flair\\models\\sentiment-en-mix-distillbert_4.pt\n"
     ]
    },
    {
     "name": "stderr",
     "output_type": "stream",
     "text": [
      "C:\\Users\\kenhu\\anaconda3\\envs\\gpu4\\lib\\site-packages\\pandas\\core\\common.py:208: VisibleDeprecationWarning: Creating an ndarray from ragged nested sequences (which is a list-or-tuple of lists-or-tuples-or ndarrays with different lengths or shapes) is deprecated. If you meant to do this, you must specify 'dtype=object' when creating the ndarray.\n",
      "  result = np.asarray(values, dtype=dtype)\n"
     ]
    },
    {
     "name": "stdout",
     "output_type": "stream",
     "text": [
      "2021-12-31 21:21:18,339 loading file C:\\Users\\kenhu\\.flair\\models\\sentiment-en-mix-distillbert_4.pt\n"
     ]
    },
    {
     "name": "stderr",
     "output_type": "stream",
     "text": [
      "C:\\Users\\kenhu\\anaconda3\\envs\\gpu4\\lib\\site-packages\\pandas\\core\\common.py:208: VisibleDeprecationWarning: Creating an ndarray from ragged nested sequences (which is a list-or-tuple of lists-or-tuples-or ndarrays with different lengths or shapes) is deprecated. If you meant to do this, you must specify 'dtype=object' when creating the ndarray.\n",
      "  result = np.asarray(values, dtype=dtype)\n"
     ]
    },
    {
     "name": "stdout",
     "output_type": "stream",
     "text": [
      "2021-12-31 21:22:39,736 loading file C:\\Users\\kenhu\\.flair\\models\\sentiment-en-mix-distillbert_4.pt\n"
     ]
    },
    {
     "name": "stderr",
     "output_type": "stream",
     "text": [
      "C:\\Users\\kenhu\\anaconda3\\envs\\gpu4\\lib\\site-packages\\pandas\\core\\common.py:208: VisibleDeprecationWarning: Creating an ndarray from ragged nested sequences (which is a list-or-tuple of lists-or-tuples-or ndarrays with different lengths or shapes) is deprecated. If you meant to do this, you must specify 'dtype=object' when creating the ndarray.\n",
      "  result = np.asarray(values, dtype=dtype)\n"
     ]
    },
    {
     "name": "stdout",
     "output_type": "stream",
     "text": [
      "2021-12-31 21:23:47,515 loading file C:\\Users\\kenhu\\.flair\\models\\sentiment-en-mix-distillbert_4.pt\n"
     ]
    },
    {
     "name": "stderr",
     "output_type": "stream",
     "text": [
      "C:\\Users\\kenhu\\anaconda3\\envs\\gpu4\\lib\\site-packages\\pandas\\core\\common.py:208: VisibleDeprecationWarning: Creating an ndarray from ragged nested sequences (which is a list-or-tuple of lists-or-tuples-or ndarrays with different lengths or shapes) is deprecated. If you meant to do this, you must specify 'dtype=object' when creating the ndarray.\n",
      "  result = np.asarray(values, dtype=dtype)\n"
     ]
    },
    {
     "name": "stdout",
     "output_type": "stream",
     "text": [
      "2021-12-31 21:24:55,330 loading file C:\\Users\\kenhu\\.flair\\models\\sentiment-en-mix-distillbert_4.pt\n"
     ]
    },
    {
     "name": "stderr",
     "output_type": "stream",
     "text": [
      "C:\\Users\\kenhu\\anaconda3\\envs\\gpu4\\lib\\site-packages\\pandas\\core\\common.py:208: VisibleDeprecationWarning: Creating an ndarray from ragged nested sequences (which is a list-or-tuple of lists-or-tuples-or ndarrays with different lengths or shapes) is deprecated. If you meant to do this, you must specify 'dtype=object' when creating the ndarray.\n",
      "  result = np.asarray(values, dtype=dtype)\n"
     ]
    },
    {
     "name": "stdout",
     "output_type": "stream",
     "text": [
      "2021-12-31 21:26:10,259 loading file C:\\Users\\kenhu\\.flair\\models\\sentiment-en-mix-distillbert_4.pt\n"
     ]
    },
    {
     "name": "stderr",
     "output_type": "stream",
     "text": [
      "C:\\Users\\kenhu\\anaconda3\\envs\\gpu4\\lib\\site-packages\\pandas\\core\\common.py:208: VisibleDeprecationWarning: Creating an ndarray from ragged nested sequences (which is a list-or-tuple of lists-or-tuples-or ndarrays with different lengths or shapes) is deprecated. If you meant to do this, you must specify 'dtype=object' when creating the ndarray.\n",
      "  result = np.asarray(values, dtype=dtype)\n"
     ]
    },
    {
     "name": "stdout",
     "output_type": "stream",
     "text": [
      "2021-12-31 21:27:21,380 loading file C:\\Users\\kenhu\\.flair\\models\\sentiment-en-mix-distillbert_4.pt\n"
     ]
    },
    {
     "name": "stderr",
     "output_type": "stream",
     "text": [
      "C:\\Users\\kenhu\\anaconda3\\envs\\gpu4\\lib\\site-packages\\pandas\\core\\common.py:208: VisibleDeprecationWarning: Creating an ndarray from ragged nested sequences (which is a list-or-tuple of lists-or-tuples-or ndarrays with different lengths or shapes) is deprecated. If you meant to do this, you must specify 'dtype=object' when creating the ndarray.\n",
      "  result = np.asarray(values, dtype=dtype)\n"
     ]
    },
    {
     "name": "stdout",
     "output_type": "stream",
     "text": [
      "2021-12-31 21:28:27,830 loading file C:\\Users\\kenhu\\.flair\\models\\sentiment-en-mix-distillbert_4.pt\n"
     ]
    },
    {
     "name": "stderr",
     "output_type": "stream",
     "text": [
      "C:\\Users\\kenhu\\anaconda3\\envs\\gpu4\\lib\\site-packages\\pandas\\core\\common.py:208: VisibleDeprecationWarning: Creating an ndarray from ragged nested sequences (which is a list-or-tuple of lists-or-tuples-or ndarrays with different lengths or shapes) is deprecated. If you meant to do this, you must specify 'dtype=object' when creating the ndarray.\n",
      "  result = np.asarray(values, dtype=dtype)\n"
     ]
    },
    {
     "name": "stdout",
     "output_type": "stream",
     "text": [
      "2021-12-31 21:29:41,788 loading file C:\\Users\\kenhu\\.flair\\models\\sentiment-en-mix-distillbert_4.pt\n"
     ]
    },
    {
     "name": "stderr",
     "output_type": "stream",
     "text": [
      "C:\\Users\\kenhu\\anaconda3\\envs\\gpu4\\lib\\site-packages\\pandas\\core\\common.py:208: VisibleDeprecationWarning: Creating an ndarray from ragged nested sequences (which is a list-or-tuple of lists-or-tuples-or ndarrays with different lengths or shapes) is deprecated. If you meant to do this, you must specify 'dtype=object' when creating the ndarray.\n",
      "  result = np.asarray(values, dtype=dtype)\n"
     ]
    },
    {
     "name": "stdout",
     "output_type": "stream",
     "text": [
      "2021-12-31 21:30:59,896 loading file C:\\Users\\kenhu\\.flair\\models\\sentiment-en-mix-distillbert_4.pt\n"
     ]
    },
    {
     "name": "stderr",
     "output_type": "stream",
     "text": [
      "C:\\Users\\kenhu\\anaconda3\\envs\\gpu4\\lib\\site-packages\\pandas\\core\\common.py:208: VisibleDeprecationWarning: Creating an ndarray from ragged nested sequences (which is a list-or-tuple of lists-or-tuples-or ndarrays with different lengths or shapes) is deprecated. If you meant to do this, you must specify 'dtype=object' when creating the ndarray.\n",
      "  result = np.asarray(values, dtype=dtype)\n"
     ]
    },
    {
     "name": "stdout",
     "output_type": "stream",
     "text": [
      "2021-12-31 21:32:19,819 loading file C:\\Users\\kenhu\\.flair\\models\\sentiment-en-mix-distillbert_4.pt\n"
     ]
    },
    {
     "name": "stderr",
     "output_type": "stream",
     "text": [
      "C:\\Users\\kenhu\\anaconda3\\envs\\gpu4\\lib\\site-packages\\pandas\\core\\common.py:208: VisibleDeprecationWarning: Creating an ndarray from ragged nested sequences (which is a list-or-tuple of lists-or-tuples-or ndarrays with different lengths or shapes) is deprecated. If you meant to do this, you must specify 'dtype=object' when creating the ndarray.\n",
      "  result = np.asarray(values, dtype=dtype)\n"
     ]
    },
    {
     "name": "stdout",
     "output_type": "stream",
     "text": [
      "2021-12-31 21:33:29,970 loading file C:\\Users\\kenhu\\.flair\\models\\sentiment-en-mix-distillbert_4.pt\n"
     ]
    },
    {
     "name": "stderr",
     "output_type": "stream",
     "text": [
      "C:\\Users\\kenhu\\anaconda3\\envs\\gpu4\\lib\\site-packages\\pandas\\core\\common.py:208: VisibleDeprecationWarning: Creating an ndarray from ragged nested sequences (which is a list-or-tuple of lists-or-tuples-or ndarrays with different lengths or shapes) is deprecated. If you meant to do this, you must specify 'dtype=object' when creating the ndarray.\n",
      "  result = np.asarray(values, dtype=dtype)\n"
     ]
    },
    {
     "name": "stdout",
     "output_type": "stream",
     "text": [
      "2021-12-31 21:34:41,964 loading file C:\\Users\\kenhu\\.flair\\models\\sentiment-en-mix-distillbert_4.pt\n"
     ]
    },
    {
     "name": "stderr",
     "output_type": "stream",
     "text": [
      "C:\\Users\\kenhu\\anaconda3\\envs\\gpu4\\lib\\site-packages\\pandas\\core\\common.py:208: VisibleDeprecationWarning: Creating an ndarray from ragged nested sequences (which is a list-or-tuple of lists-or-tuples-or ndarrays with different lengths or shapes) is deprecated. If you meant to do this, you must specify 'dtype=object' when creating the ndarray.\n",
      "  result = np.asarray(values, dtype=dtype)\n"
     ]
    },
    {
     "name": "stdout",
     "output_type": "stream",
     "text": [
      "2021-12-31 21:35:57,215 loading file C:\\Users\\kenhu\\.flair\\models\\sentiment-en-mix-distillbert_4.pt\n"
     ]
    },
    {
     "name": "stderr",
     "output_type": "stream",
     "text": [
      "C:\\Users\\kenhu\\anaconda3\\envs\\gpu4\\lib\\site-packages\\pandas\\core\\common.py:208: VisibleDeprecationWarning: Creating an ndarray from ragged nested sequences (which is a list-or-tuple of lists-or-tuples-or ndarrays with different lengths or shapes) is deprecated. If you meant to do this, you must specify 'dtype=object' when creating the ndarray.\n",
      "  result = np.asarray(values, dtype=dtype)\n"
     ]
    },
    {
     "name": "stdout",
     "output_type": "stream",
     "text": [
      "2021-12-31 21:37:10,072 loading file C:\\Users\\kenhu\\.flair\\models\\sentiment-en-mix-distillbert_4.pt\n"
     ]
    },
    {
     "name": "stderr",
     "output_type": "stream",
     "text": [
      "C:\\Users\\kenhu\\anaconda3\\envs\\gpu4\\lib\\site-packages\\pandas\\core\\common.py:208: VisibleDeprecationWarning: Creating an ndarray from ragged nested sequences (which is a list-or-tuple of lists-or-tuples-or ndarrays with different lengths or shapes) is deprecated. If you meant to do this, you must specify 'dtype=object' when creating the ndarray.\n",
      "  result = np.asarray(values, dtype=dtype)\n"
     ]
    },
    {
     "name": "stdout",
     "output_type": "stream",
     "text": [
      "2021-12-31 21:38:14,247 loading file C:\\Users\\kenhu\\.flair\\models\\sentiment-en-mix-distillbert_4.pt\n"
     ]
    },
    {
     "name": "stderr",
     "output_type": "stream",
     "text": [
      "C:\\Users\\kenhu\\anaconda3\\envs\\gpu4\\lib\\site-packages\\pandas\\core\\common.py:208: VisibleDeprecationWarning: Creating an ndarray from ragged nested sequences (which is a list-or-tuple of lists-or-tuples-or ndarrays with different lengths or shapes) is deprecated. If you meant to do this, you must specify 'dtype=object' when creating the ndarray.\n",
      "  result = np.asarray(values, dtype=dtype)\n"
     ]
    },
    {
     "name": "stdout",
     "output_type": "stream",
     "text": [
      "2021-12-31 21:39:32,963 loading file C:\\Users\\kenhu\\.flair\\models\\sentiment-en-mix-distillbert_4.pt\n"
     ]
    },
    {
     "name": "stderr",
     "output_type": "stream",
     "text": [
      "C:\\Users\\kenhu\\anaconda3\\envs\\gpu4\\lib\\site-packages\\pandas\\core\\common.py:208: VisibleDeprecationWarning: Creating an ndarray from ragged nested sequences (which is a list-or-tuple of lists-or-tuples-or ndarrays with different lengths or shapes) is deprecated. If you meant to do this, you must specify 'dtype=object' when creating the ndarray.\n",
      "  result = np.asarray(values, dtype=dtype)\n"
     ]
    },
    {
     "name": "stdout",
     "output_type": "stream",
     "text": [
      "2021-12-31 21:40:50,208 loading file C:\\Users\\kenhu\\.flair\\models\\sentiment-en-mix-distillbert_4.pt\n"
     ]
    },
    {
     "name": "stderr",
     "output_type": "stream",
     "text": [
      "C:\\Users\\kenhu\\anaconda3\\envs\\gpu4\\lib\\site-packages\\pandas\\core\\common.py:208: VisibleDeprecationWarning: Creating an ndarray from ragged nested sequences (which is a list-or-tuple of lists-or-tuples-or ndarrays with different lengths or shapes) is deprecated. If you meant to do this, you must specify 'dtype=object' when creating the ndarray.\n",
      "  result = np.asarray(values, dtype=dtype)\n"
     ]
    },
    {
     "name": "stdout",
     "output_type": "stream",
     "text": [
      "2021-12-31 21:42:04,187 loading file C:\\Users\\kenhu\\.flair\\models\\sentiment-en-mix-distillbert_4.pt\n"
     ]
    },
    {
     "name": "stderr",
     "output_type": "stream",
     "text": [
      "C:\\Users\\kenhu\\anaconda3\\envs\\gpu4\\lib\\site-packages\\pandas\\core\\common.py:208: VisibleDeprecationWarning: Creating an ndarray from ragged nested sequences (which is a list-or-tuple of lists-or-tuples-or ndarrays with different lengths or shapes) is deprecated. If you meant to do this, you must specify 'dtype=object' when creating the ndarray.\n",
      "  result = np.asarray(values, dtype=dtype)\n"
     ]
    },
    {
     "name": "stdout",
     "output_type": "stream",
     "text": [
      "2021-12-31 21:43:15,307 loading file C:\\Users\\kenhu\\.flair\\models\\sentiment-en-mix-distillbert_4.pt\n"
     ]
    },
    {
     "name": "stderr",
     "output_type": "stream",
     "text": [
      "C:\\Users\\kenhu\\anaconda3\\envs\\gpu4\\lib\\site-packages\\pandas\\core\\common.py:208: VisibleDeprecationWarning: Creating an ndarray from ragged nested sequences (which is a list-or-tuple of lists-or-tuples-or ndarrays with different lengths or shapes) is deprecated. If you meant to do this, you must specify 'dtype=object' when creating the ndarray.\n",
      "  result = np.asarray(values, dtype=dtype)\n"
     ]
    },
    {
     "name": "stdout",
     "output_type": "stream",
     "text": [
      "2021-12-31 21:44:25,751 loading file C:\\Users\\kenhu\\.flair\\models\\sentiment-en-mix-distillbert_4.pt\n"
     ]
    },
    {
     "name": "stderr",
     "output_type": "stream",
     "text": [
      "C:\\Users\\kenhu\\anaconda3\\envs\\gpu4\\lib\\site-packages\\pandas\\core\\common.py:208: VisibleDeprecationWarning: Creating an ndarray from ragged nested sequences (which is a list-or-tuple of lists-or-tuples-or ndarrays with different lengths or shapes) is deprecated. If you meant to do this, you must specify 'dtype=object' when creating the ndarray.\n",
      "  result = np.asarray(values, dtype=dtype)\n"
     ]
    },
    {
     "name": "stdout",
     "output_type": "stream",
     "text": [
      "2021-12-31 21:45:42,830 loading file C:\\Users\\kenhu\\.flair\\models\\sentiment-en-mix-distillbert_4.pt\n"
     ]
    },
    {
     "name": "stderr",
     "output_type": "stream",
     "text": [
      "C:\\Users\\kenhu\\anaconda3\\envs\\gpu4\\lib\\site-packages\\pandas\\core\\common.py:208: VisibleDeprecationWarning: Creating an ndarray from ragged nested sequences (which is a list-or-tuple of lists-or-tuples-or ndarrays with different lengths or shapes) is deprecated. If you meant to do this, you must specify 'dtype=object' when creating the ndarray.\n",
      "  result = np.asarray(values, dtype=dtype)\n"
     ]
    },
    {
     "name": "stdout",
     "output_type": "stream",
     "text": [
      "2021-12-31 21:46:58,691 loading file C:\\Users\\kenhu\\.flair\\models\\sentiment-en-mix-distillbert_4.pt\n"
     ]
    },
    {
     "name": "stderr",
     "output_type": "stream",
     "text": [
      "C:\\Users\\kenhu\\anaconda3\\envs\\gpu4\\lib\\site-packages\\pandas\\core\\common.py:208: VisibleDeprecationWarning: Creating an ndarray from ragged nested sequences (which is a list-or-tuple of lists-or-tuples-or ndarrays with different lengths or shapes) is deprecated. If you meant to do this, you must specify 'dtype=object' when creating the ndarray.\n",
      "  result = np.asarray(values, dtype=dtype)\n"
     ]
    },
    {
     "name": "stdout",
     "output_type": "stream",
     "text": [
      "2021-12-31 21:48:12,413 loading file C:\\Users\\kenhu\\.flair\\models\\sentiment-en-mix-distillbert_4.pt\n"
     ]
    },
    {
     "name": "stderr",
     "output_type": "stream",
     "text": [
      "C:\\Users\\kenhu\\anaconda3\\envs\\gpu4\\lib\\site-packages\\pandas\\core\\common.py:208: VisibleDeprecationWarning: Creating an ndarray from ragged nested sequences (which is a list-or-tuple of lists-or-tuples-or ndarrays with different lengths or shapes) is deprecated. If you meant to do this, you must specify 'dtype=object' when creating the ndarray.\n",
      "  result = np.asarray(values, dtype=dtype)\n"
     ]
    },
    {
     "name": "stdout",
     "output_type": "stream",
     "text": [
      "2021-12-31 21:49:23,616 loading file C:\\Users\\kenhu\\.flair\\models\\sentiment-en-mix-distillbert_4.pt\n"
     ]
    },
    {
     "name": "stderr",
     "output_type": "stream",
     "text": [
      "C:\\Users\\kenhu\\anaconda3\\envs\\gpu4\\lib\\site-packages\\pandas\\core\\common.py:208: VisibleDeprecationWarning: Creating an ndarray from ragged nested sequences (which is a list-or-tuple of lists-or-tuples-or ndarrays with different lengths or shapes) is deprecated. If you meant to do this, you must specify 'dtype=object' when creating the ndarray.\n",
      "  result = np.asarray(values, dtype=dtype)\n"
     ]
    },
    {
     "name": "stdout",
     "output_type": "stream",
     "text": [
      "2021-12-31 21:50:32,685 loading file C:\\Users\\kenhu\\.flair\\models\\sentiment-en-mix-distillbert_4.pt\n"
     ]
    },
    {
     "name": "stderr",
     "output_type": "stream",
     "text": [
      "C:\\Users\\kenhu\\anaconda3\\envs\\gpu4\\lib\\site-packages\\pandas\\core\\common.py:208: VisibleDeprecationWarning: Creating an ndarray from ragged nested sequences (which is a list-or-tuple of lists-or-tuples-or ndarrays with different lengths or shapes) is deprecated. If you meant to do this, you must specify 'dtype=object' when creating the ndarray.\n",
      "  result = np.asarray(values, dtype=dtype)\n"
     ]
    },
    {
     "name": "stdout",
     "output_type": "stream",
     "text": [
      "2021-12-31 21:51:48,365 loading file C:\\Users\\kenhu\\.flair\\models\\sentiment-en-mix-distillbert_4.pt\n"
     ]
    },
    {
     "name": "stderr",
     "output_type": "stream",
     "text": [
      "C:\\Users\\kenhu\\anaconda3\\envs\\gpu4\\lib\\site-packages\\pandas\\core\\common.py:208: VisibleDeprecationWarning: Creating an ndarray from ragged nested sequences (which is a list-or-tuple of lists-or-tuples-or ndarrays with different lengths or shapes) is deprecated. If you meant to do this, you must specify 'dtype=object' when creating the ndarray.\n",
      "  result = np.asarray(values, dtype=dtype)\n"
     ]
    },
    {
     "name": "stdout",
     "output_type": "stream",
     "text": [
      "2021-12-31 21:53:05,237 loading file C:\\Users\\kenhu\\.flair\\models\\sentiment-en-mix-distillbert_4.pt\n"
     ]
    },
    {
     "name": "stderr",
     "output_type": "stream",
     "text": [
      "C:\\Users\\kenhu\\anaconda3\\envs\\gpu4\\lib\\site-packages\\pandas\\core\\common.py:208: VisibleDeprecationWarning: Creating an ndarray from ragged nested sequences (which is a list-or-tuple of lists-or-tuples-or ndarrays with different lengths or shapes) is deprecated. If you meant to do this, you must specify 'dtype=object' when creating the ndarray.\n",
      "  result = np.asarray(values, dtype=dtype)\n"
     ]
    },
    {
     "name": "stdout",
     "output_type": "stream",
     "text": [
      "2021-12-31 21:54:17,468 loading file C:\\Users\\kenhu\\.flair\\models\\sentiment-en-mix-distillbert_4.pt\n"
     ]
    },
    {
     "name": "stderr",
     "output_type": "stream",
     "text": [
      "C:\\Users\\kenhu\\anaconda3\\envs\\gpu4\\lib\\site-packages\\pandas\\core\\common.py:208: VisibleDeprecationWarning: Creating an ndarray from ragged nested sequences (which is a list-or-tuple of lists-or-tuples-or ndarrays with different lengths or shapes) is deprecated. If you meant to do this, you must specify 'dtype=object' when creating the ndarray.\n",
      "  result = np.asarray(values, dtype=dtype)\n"
     ]
    },
    {
     "name": "stdout",
     "output_type": "stream",
     "text": [
      "2021-12-31 21:55:32,730 loading file C:\\Users\\kenhu\\.flair\\models\\sentiment-en-mix-distillbert_4.pt\n"
     ]
    },
    {
     "name": "stderr",
     "output_type": "stream",
     "text": [
      "C:\\Users\\kenhu\\anaconda3\\envs\\gpu4\\lib\\site-packages\\pandas\\core\\common.py:208: VisibleDeprecationWarning: Creating an ndarray from ragged nested sequences (which is a list-or-tuple of lists-or-tuples-or ndarrays with different lengths or shapes) is deprecated. If you meant to do this, you must specify 'dtype=object' when creating the ndarray.\n",
      "  result = np.asarray(values, dtype=dtype)\n"
     ]
    },
    {
     "name": "stdout",
     "output_type": "stream",
     "text": [
      "2021-12-31 21:56:45,687 loading file C:\\Users\\kenhu\\.flair\\models\\sentiment-en-mix-distillbert_4.pt\n"
     ]
    },
    {
     "name": "stderr",
     "output_type": "stream",
     "text": [
      "C:\\Users\\kenhu\\anaconda3\\envs\\gpu4\\lib\\site-packages\\pandas\\core\\common.py:208: VisibleDeprecationWarning: Creating an ndarray from ragged nested sequences (which is a list-or-tuple of lists-or-tuples-or ndarrays with different lengths or shapes) is deprecated. If you meant to do this, you must specify 'dtype=object' when creating the ndarray.\n",
      "  result = np.asarray(values, dtype=dtype)\n"
     ]
    },
    {
     "name": "stdout",
     "output_type": "stream",
     "text": [
      "2021-12-31 21:57:51,072 loading file C:\\Users\\kenhu\\.flair\\models\\sentiment-en-mix-distillbert_4.pt\n"
     ]
    },
    {
     "name": "stderr",
     "output_type": "stream",
     "text": [
      "C:\\Users\\kenhu\\anaconda3\\envs\\gpu4\\lib\\site-packages\\pandas\\core\\common.py:208: VisibleDeprecationWarning: Creating an ndarray from ragged nested sequences (which is a list-or-tuple of lists-or-tuples-or ndarrays with different lengths or shapes) is deprecated. If you meant to do this, you must specify 'dtype=object' when creating the ndarray.\n",
      "  result = np.asarray(values, dtype=dtype)\n"
     ]
    },
    {
     "name": "stdout",
     "output_type": "stream",
     "text": [
      "2021-12-31 21:59:08,820 loading file C:\\Users\\kenhu\\.flair\\models\\sentiment-en-mix-distillbert_4.pt\n"
     ]
    },
    {
     "name": "stderr",
     "output_type": "stream",
     "text": [
      "C:\\Users\\kenhu\\anaconda3\\envs\\gpu4\\lib\\site-packages\\pandas\\core\\common.py:208: VisibleDeprecationWarning: Creating an ndarray from ragged nested sequences (which is a list-or-tuple of lists-or-tuples-or ndarrays with different lengths or shapes) is deprecated. If you meant to do this, you must specify 'dtype=object' when creating the ndarray.\n",
      "  result = np.asarray(values, dtype=dtype)\n"
     ]
    },
    {
     "name": "stdout",
     "output_type": "stream",
     "text": [
      "2021-12-31 22:00:20,639 loading file C:\\Users\\kenhu\\.flair\\models\\sentiment-en-mix-distillbert_4.pt\n"
     ]
    },
    {
     "name": "stderr",
     "output_type": "stream",
     "text": [
      "C:\\Users\\kenhu\\anaconda3\\envs\\gpu4\\lib\\site-packages\\pandas\\core\\common.py:208: VisibleDeprecationWarning: Creating an ndarray from ragged nested sequences (which is a list-or-tuple of lists-or-tuples-or ndarrays with different lengths or shapes) is deprecated. If you meant to do this, you must specify 'dtype=object' when creating the ndarray.\n",
      "  result = np.asarray(values, dtype=dtype)\n"
     ]
    },
    {
     "name": "stdout",
     "output_type": "stream",
     "text": [
      "2021-12-31 22:01:33,388 loading file C:\\Users\\kenhu\\.flair\\models\\sentiment-en-mix-distillbert_4.pt\n"
     ]
    },
    {
     "name": "stderr",
     "output_type": "stream",
     "text": [
      "C:\\Users\\kenhu\\anaconda3\\envs\\gpu4\\lib\\site-packages\\pandas\\core\\common.py:208: VisibleDeprecationWarning: Creating an ndarray from ragged nested sequences (which is a list-or-tuple of lists-or-tuples-or ndarrays with different lengths or shapes) is deprecated. If you meant to do this, you must specify 'dtype=object' when creating the ndarray.\n",
      "  result = np.asarray(values, dtype=dtype)\n"
     ]
    },
    {
     "name": "stdout",
     "output_type": "stream",
     "text": [
      "2021-12-31 22:02:44,431 loading file C:\\Users\\kenhu\\.flair\\models\\sentiment-en-mix-distillbert_4.pt\n"
     ]
    },
    {
     "name": "stderr",
     "output_type": "stream",
     "text": [
      "C:\\Users\\kenhu\\anaconda3\\envs\\gpu4\\lib\\site-packages\\pandas\\core\\common.py:208: VisibleDeprecationWarning: Creating an ndarray from ragged nested sequences (which is a list-or-tuple of lists-or-tuples-or ndarrays with different lengths or shapes) is deprecated. If you meant to do this, you must specify 'dtype=object' when creating the ndarray.\n",
      "  result = np.asarray(values, dtype=dtype)\n"
     ]
    },
    {
     "name": "stdout",
     "output_type": "stream",
     "text": [
      "2021-12-31 22:04:01,022 loading file C:\\Users\\kenhu\\.flair\\models\\sentiment-en-mix-distillbert_4.pt\n"
     ]
    },
    {
     "name": "stderr",
     "output_type": "stream",
     "text": [
      "C:\\Users\\kenhu\\anaconda3\\envs\\gpu4\\lib\\site-packages\\pandas\\core\\common.py:208: VisibleDeprecationWarning: Creating an ndarray from ragged nested sequences (which is a list-or-tuple of lists-or-tuples-or ndarrays with different lengths or shapes) is deprecated. If you meant to do this, you must specify 'dtype=object' when creating the ndarray.\n",
      "  result = np.asarray(values, dtype=dtype)\n"
     ]
    },
    {
     "name": "stdout",
     "output_type": "stream",
     "text": [
      "2021-12-31 22:05:17,707 loading file C:\\Users\\kenhu\\.flair\\models\\sentiment-en-mix-distillbert_4.pt\n"
     ]
    },
    {
     "name": "stderr",
     "output_type": "stream",
     "text": [
      "C:\\Users\\kenhu\\anaconda3\\envs\\gpu4\\lib\\site-packages\\pandas\\core\\common.py:208: VisibleDeprecationWarning: Creating an ndarray from ragged nested sequences (which is a list-or-tuple of lists-or-tuples-or ndarrays with different lengths or shapes) is deprecated. If you meant to do this, you must specify 'dtype=object' when creating the ndarray.\n",
      "  result = np.asarray(values, dtype=dtype)\n"
     ]
    },
    {
     "name": "stdout",
     "output_type": "stream",
     "text": [
      "2021-12-31 22:06:31,865 loading file C:\\Users\\kenhu\\.flair\\models\\sentiment-en-mix-distillbert_4.pt\n"
     ]
    },
    {
     "name": "stderr",
     "output_type": "stream",
     "text": [
      "C:\\Users\\kenhu\\anaconda3\\envs\\gpu4\\lib\\site-packages\\pandas\\core\\common.py:208: VisibleDeprecationWarning: Creating an ndarray from ragged nested sequences (which is a list-or-tuple of lists-or-tuples-or ndarrays with different lengths or shapes) is deprecated. If you meant to do this, you must specify 'dtype=object' when creating the ndarray.\n",
      "  result = np.asarray(values, dtype=dtype)\n"
     ]
    },
    {
     "name": "stdout",
     "output_type": "stream",
     "text": [
      "2021-12-31 22:07:44,113 loading file C:\\Users\\kenhu\\.flair\\models\\sentiment-en-mix-distillbert_4.pt\n"
     ]
    },
    {
     "name": "stderr",
     "output_type": "stream",
     "text": [
      "C:\\Users\\kenhu\\anaconda3\\envs\\gpu4\\lib\\site-packages\\pandas\\core\\common.py:208: VisibleDeprecationWarning: Creating an ndarray from ragged nested sequences (which is a list-or-tuple of lists-or-tuples-or ndarrays with different lengths or shapes) is deprecated. If you meant to do this, you must specify 'dtype=object' when creating the ndarray.\n",
      "  result = np.asarray(values, dtype=dtype)\n"
     ]
    },
    {
     "name": "stdout",
     "output_type": "stream",
     "text": [
      "2021-12-31 22:08:59,788 loading file C:\\Users\\kenhu\\.flair\\models\\sentiment-en-mix-distillbert_4.pt\n"
     ]
    },
    {
     "name": "stderr",
     "output_type": "stream",
     "text": [
      "C:\\Users\\kenhu\\anaconda3\\envs\\gpu4\\lib\\site-packages\\pandas\\core\\common.py:208: VisibleDeprecationWarning: Creating an ndarray from ragged nested sequences (which is a list-or-tuple of lists-or-tuples-or ndarrays with different lengths or shapes) is deprecated. If you meant to do this, you must specify 'dtype=object' when creating the ndarray.\n",
      "  result = np.asarray(values, dtype=dtype)\n"
     ]
    },
    {
     "name": "stdout",
     "output_type": "stream",
     "text": [
      "2021-12-31 22:10:14,151 loading file C:\\Users\\kenhu\\.flair\\models\\sentiment-en-mix-distillbert_4.pt\n"
     ]
    },
    {
     "name": "stderr",
     "output_type": "stream",
     "text": [
      "C:\\Users\\kenhu\\anaconda3\\envs\\gpu4\\lib\\site-packages\\pandas\\core\\common.py:208: VisibleDeprecationWarning: Creating an ndarray from ragged nested sequences (which is a list-or-tuple of lists-or-tuples-or ndarrays with different lengths or shapes) is deprecated. If you meant to do this, you must specify 'dtype=object' when creating the ndarray.\n",
      "  result = np.asarray(values, dtype=dtype)\n"
     ]
    },
    {
     "name": "stdout",
     "output_type": "stream",
     "text": [
      "2021-12-31 22:11:19,814 loading file C:\\Users\\kenhu\\.flair\\models\\sentiment-en-mix-distillbert_4.pt\n"
     ]
    },
    {
     "name": "stderr",
     "output_type": "stream",
     "text": [
      "C:\\Users\\kenhu\\anaconda3\\envs\\gpu4\\lib\\site-packages\\pandas\\core\\common.py:208: VisibleDeprecationWarning: Creating an ndarray from ragged nested sequences (which is a list-or-tuple of lists-or-tuples-or ndarrays with different lengths or shapes) is deprecated. If you meant to do this, you must specify 'dtype=object' when creating the ndarray.\n",
      "  result = np.asarray(values, dtype=dtype)\n"
     ]
    },
    {
     "name": "stdout",
     "output_type": "stream",
     "text": [
      "2021-12-31 22:12:32,422 loading file C:\\Users\\kenhu\\.flair\\models\\sentiment-en-mix-distillbert_4.pt\n"
     ]
    },
    {
     "name": "stderr",
     "output_type": "stream",
     "text": [
      "C:\\Users\\kenhu\\anaconda3\\envs\\gpu4\\lib\\site-packages\\pandas\\core\\common.py:208: VisibleDeprecationWarning: Creating an ndarray from ragged nested sequences (which is a list-or-tuple of lists-or-tuples-or ndarrays with different lengths or shapes) is deprecated. If you meant to do this, you must specify 'dtype=object' when creating the ndarray.\n",
      "  result = np.asarray(values, dtype=dtype)\n"
     ]
    },
    {
     "name": "stdout",
     "output_type": "stream",
     "text": [
      "2021-12-31 22:13:49,510 loading file C:\\Users\\kenhu\\.flair\\models\\sentiment-en-mix-distillbert_4.pt\n"
     ]
    },
    {
     "name": "stderr",
     "output_type": "stream",
     "text": [
      "C:\\Users\\kenhu\\anaconda3\\envs\\gpu4\\lib\\site-packages\\pandas\\core\\common.py:208: VisibleDeprecationWarning: Creating an ndarray from ragged nested sequences (which is a list-or-tuple of lists-or-tuples-or ndarrays with different lengths or shapes) is deprecated. If you meant to do this, you must specify 'dtype=object' when creating the ndarray.\n",
      "  result = np.asarray(values, dtype=dtype)\n"
     ]
    },
    {
     "name": "stdout",
     "output_type": "stream",
     "text": [
      "2021-12-31 22:15:00,884 loading file C:\\Users\\kenhu\\.flair\\models\\sentiment-en-mix-distillbert_4.pt\n"
     ]
    },
    {
     "name": "stderr",
     "output_type": "stream",
     "text": [
      "C:\\Users\\kenhu\\anaconda3\\envs\\gpu4\\lib\\site-packages\\pandas\\core\\common.py:208: VisibleDeprecationWarning: Creating an ndarray from ragged nested sequences (which is a list-or-tuple of lists-or-tuples-or ndarrays with different lengths or shapes) is deprecated. If you meant to do this, you must specify 'dtype=object' when creating the ndarray.\n",
      "  result = np.asarray(values, dtype=dtype)\n"
     ]
    },
    {
     "name": "stdout",
     "output_type": "stream",
     "text": [
      "2021-12-31 22:16:14,587 loading file C:\\Users\\kenhu\\.flair\\models\\sentiment-en-mix-distillbert_4.pt\n"
     ]
    },
    {
     "name": "stderr",
     "output_type": "stream",
     "text": [
      "C:\\Users\\kenhu\\anaconda3\\envs\\gpu4\\lib\\site-packages\\pandas\\core\\common.py:208: VisibleDeprecationWarning: Creating an ndarray from ragged nested sequences (which is a list-or-tuple of lists-or-tuples-or ndarrays with different lengths or shapes) is deprecated. If you meant to do this, you must specify 'dtype=object' when creating the ndarray.\n",
      "  result = np.asarray(values, dtype=dtype)\n"
     ]
    },
    {
     "name": "stdout",
     "output_type": "stream",
     "text": [
      "2021-12-31 22:17:24,319 loading file C:\\Users\\kenhu\\.flair\\models\\sentiment-en-mix-distillbert_4.pt\n"
     ]
    },
    {
     "name": "stderr",
     "output_type": "stream",
     "text": [
      "C:\\Users\\kenhu\\anaconda3\\envs\\gpu4\\lib\\site-packages\\pandas\\core\\common.py:208: VisibleDeprecationWarning: Creating an ndarray from ragged nested sequences (which is a list-or-tuple of lists-or-tuples-or ndarrays with different lengths or shapes) is deprecated. If you meant to do this, you must specify 'dtype=object' when creating the ndarray.\n",
      "  result = np.asarray(values, dtype=dtype)\n",
      "C:\\Users\\kenhu\\anaconda3\\envs\\gpu4\\lib\\site-packages\\pandas\\core\\common.py:208: VisibleDeprecationWarning: Creating an ndarray from ragged nested sequences (which is a list-or-tuple of lists-or-tuples-or ndarrays with different lengths or shapes) is deprecated. If you meant to do this, you must specify 'dtype=object' when creating the ndarray.\n",
      "  result = np.asarray(values, dtype=dtype)\n"
     ]
    }
   ],
   "source": [
    "import nltk\n",
    "\n",
    "review_sample = review_df[0:200000]\n",
    "reviews_list = np.array_split(review_sample,100)\n",
    "flair_list = []\n",
    "for i in range (0, len(reviews_list)):\n",
    "    flair_review = topic_modeler(reviews_list[i], Ratios)\n",
    "    flair_list.append(flair_review)\n",
    "    \n",
    "\n",
    "reviews_filtered = pd.concat(flair_list)\n"
   ]
  },
  {
   "cell_type": "code",
   "execution_count": 18,
   "id": "3feac1f6",
   "metadata": {},
   "outputs": [
    {
     "data": {
      "text/html": [
       "<div>\n",
       "<style scoped>\n",
       "    .dataframe tbody tr th:only-of-type {\n",
       "        vertical-align: middle;\n",
       "    }\n",
       "\n",
       "    .dataframe tbody tr th {\n",
       "        vertical-align: top;\n",
       "    }\n",
       "\n",
       "    .dataframe thead th {\n",
       "        text-align: right;\n",
       "    }\n",
       "</style>\n",
       "<table border=\"1\" class=\"dataframe\">\n",
       "  <thead>\n",
       "    <tr style=\"text-align: right;\">\n",
       "      <th></th>\n",
       "      <th>business_id</th>\n",
       "      <th>name</th>\n",
       "      <th>address</th>\n",
       "      <th>city</th>\n",
       "      <th>state</th>\n",
       "      <th>postal_code</th>\n",
       "      <th>latitude</th>\n",
       "      <th>longitude</th>\n",
       "      <th>stars</th>\n",
       "      <th>review_count</th>\n",
       "      <th>...</th>\n",
       "      <th>attributes</th>\n",
       "      <th>categories</th>\n",
       "      <th>hours</th>\n",
       "      <th>user_id</th>\n",
       "      <th>review_stars</th>\n",
       "      <th>text</th>\n",
       "      <th>date</th>\n",
       "      <th>Sentence</th>\n",
       "      <th>Sentence Topics</th>\n",
       "      <th>Sentence Sentiment</th>\n",
       "    </tr>\n",
       "  </thead>\n",
       "  <tbody>\n",
       "    <tr>\n",
       "      <th>0</th>\n",
       "      <td>tCbdrRPZA0oiIYSmHG3J0w</td>\n",
       "      <td>Flying Elephants at PDX</td>\n",
       "      <td>7000 NE Airport Way</td>\n",
       "      <td>Portland</td>\n",
       "      <td>OR</td>\n",
       "      <td>97218</td>\n",
       "      <td>45.588906</td>\n",
       "      <td>-122.593331</td>\n",
       "      <td>4.0</td>\n",
       "      <td>126</td>\n",
       "      <td>...</td>\n",
       "      <td>{'RestaurantsTakeOut': 'True', 'RestaurantsAtt...</td>\n",
       "      <td>Salad, Soup, Sandwiches, Delis, Restaurants, C...</td>\n",
       "      <td>{'Monday': '5:0-18:0', 'Tuesday': '5:0-17:0', ...</td>\n",
       "      <td>24gb1QBBEl2xHtVeTzDsCQ</td>\n",
       "      <td>4</td>\n",
       "      <td>Elephant's contacted me the same day I posted ...</td>\n",
       "      <td>2012-07-16 05:04:05</td>\n",
       "      <td>[]</td>\n",
       "      <td>[]</td>\n",
       "      <td>[]</td>\n",
       "    </tr>\n",
       "    <tr>\n",
       "      <th>1</th>\n",
       "      <td>tCbdrRPZA0oiIYSmHG3J0w</td>\n",
       "      <td>Flying Elephants at PDX</td>\n",
       "      <td>7000 NE Airport Way</td>\n",
       "      <td>Portland</td>\n",
       "      <td>OR</td>\n",
       "      <td>97218</td>\n",
       "      <td>45.588906</td>\n",
       "      <td>-122.593331</td>\n",
       "      <td>4.0</td>\n",
       "      <td>126</td>\n",
       "      <td>...</td>\n",
       "      <td>{'RestaurantsTakeOut': 'True', 'RestaurantsAtt...</td>\n",
       "      <td>Salad, Soup, Sandwiches, Delis, Restaurants, C...</td>\n",
       "      <td>{'Monday': '5:0-18:0', 'Tuesday': '5:0-17:0', ...</td>\n",
       "      <td>AsDPajAdVBsXydg60AIsdw</td>\n",
       "      <td>5</td>\n",
       "      <td>I'm not usually a fan of airport food. I usual...</td>\n",
       "      <td>2015-04-28 21:11:10</td>\n",
       "      <td>[However, I had no choice this past weekend on...</td>\n",
       "      <td>[[0, 1.0, 0]]</td>\n",
       "      <td>[-0.6821]</td>\n",
       "    </tr>\n",
       "    <tr>\n",
       "      <th>2</th>\n",
       "      <td>tCbdrRPZA0oiIYSmHG3J0w</td>\n",
       "      <td>Flying Elephants at PDX</td>\n",
       "      <td>7000 NE Airport Way</td>\n",
       "      <td>Portland</td>\n",
       "      <td>OR</td>\n",
       "      <td>97218</td>\n",
       "      <td>45.588906</td>\n",
       "      <td>-122.593331</td>\n",
       "      <td>4.0</td>\n",
       "      <td>126</td>\n",
       "      <td>...</td>\n",
       "      <td>{'RestaurantsTakeOut': 'True', 'RestaurantsAtt...</td>\n",
       "      <td>Salad, Soup, Sandwiches, Delis, Restaurants, C...</td>\n",
       "      <td>{'Monday': '5:0-18:0', 'Tuesday': '5:0-17:0', ...</td>\n",
       "      <td>Eypq5gLLjCapBVVnMw_MyA</td>\n",
       "      <td>4</td>\n",
       "      <td>If one must have breakfast at the airport, per...</td>\n",
       "      <td>2015-11-18 18:50:05</td>\n",
       "      <td>[If one must have breakfast at the airport, pe...</td>\n",
       "      <td>[[0, 1.0, 0]]</td>\n",
       "      <td>[0.6861]</td>\n",
       "    </tr>\n",
       "    <tr>\n",
       "      <th>3</th>\n",
       "      <td>tCbdrRPZA0oiIYSmHG3J0w</td>\n",
       "      <td>Flying Elephants at PDX</td>\n",
       "      <td>7000 NE Airport Way</td>\n",
       "      <td>Portland</td>\n",
       "      <td>OR</td>\n",
       "      <td>97218</td>\n",
       "      <td>45.588906</td>\n",
       "      <td>-122.593331</td>\n",
       "      <td>4.0</td>\n",
       "      <td>126</td>\n",
       "      <td>...</td>\n",
       "      <td>{'RestaurantsTakeOut': 'True', 'RestaurantsAtt...</td>\n",
       "      <td>Salad, Soup, Sandwiches, Delis, Restaurants, C...</td>\n",
       "      <td>{'Monday': '5:0-18:0', 'Tuesday': '5:0-17:0', ...</td>\n",
       "      <td>X568BojbbH6cAxqXU5zLwA</td>\n",
       "      <td>5</td>\n",
       "      <td>Reasonably priced, tasty local joint. Lots of ...</td>\n",
       "      <td>2011-11-30 20:15:41</td>\n",
       "      <td>[Reasonably priced, tasty local joint., Beers ...</td>\n",
       "      <td>[[0, 0, 1.0], [0, 0, 1.0]]</td>\n",
       "      <td>[0.9962, -0.8692]</td>\n",
       "    </tr>\n",
       "    <tr>\n",
       "      <th>4</th>\n",
       "      <td>tCbdrRPZA0oiIYSmHG3J0w</td>\n",
       "      <td>Flying Elephants at PDX</td>\n",
       "      <td>7000 NE Airport Way</td>\n",
       "      <td>Portland</td>\n",
       "      <td>OR</td>\n",
       "      <td>97218</td>\n",
       "      <td>45.588906</td>\n",
       "      <td>-122.593331</td>\n",
       "      <td>4.0</td>\n",
       "      <td>126</td>\n",
       "      <td>...</td>\n",
       "      <td>{'RestaurantsTakeOut': 'True', 'RestaurantsAtt...</td>\n",
       "      <td>Salad, Soup, Sandwiches, Delis, Restaurants, C...</td>\n",
       "      <td>{'Monday': '5:0-18:0', 'Tuesday': '5:0-17:0', ...</td>\n",
       "      <td>gQMsoHpjmzBmBQkkefrLXw</td>\n",
       "      <td>5</td>\n",
       "      <td>Other than my own store, this is my go-to airp...</td>\n",
       "      <td>2016-08-12 23:47:28</td>\n",
       "      <td>[Fresh food, lots of allergy-friendly options,...</td>\n",
       "      <td>[[0, 1.0, 0]]</td>\n",
       "      <td>[0.9964]</td>\n",
       "    </tr>\n",
       "  </tbody>\n",
       "</table>\n",
       "<p>5 rows × 21 columns</p>\n",
       "</div>"
      ],
      "text/plain": [
       "              business_id                     name              address  \\\n",
       "0  tCbdrRPZA0oiIYSmHG3J0w  Flying Elephants at PDX  7000 NE Airport Way   \n",
       "1  tCbdrRPZA0oiIYSmHG3J0w  Flying Elephants at PDX  7000 NE Airport Way   \n",
       "2  tCbdrRPZA0oiIYSmHG3J0w  Flying Elephants at PDX  7000 NE Airport Way   \n",
       "3  tCbdrRPZA0oiIYSmHG3J0w  Flying Elephants at PDX  7000 NE Airport Way   \n",
       "4  tCbdrRPZA0oiIYSmHG3J0w  Flying Elephants at PDX  7000 NE Airport Way   \n",
       "\n",
       "       city state postal_code   latitude   longitude  stars  review_count  \\\n",
       "0  Portland    OR       97218  45.588906 -122.593331    4.0           126   \n",
       "1  Portland    OR       97218  45.588906 -122.593331    4.0           126   \n",
       "2  Portland    OR       97218  45.588906 -122.593331    4.0           126   \n",
       "3  Portland    OR       97218  45.588906 -122.593331    4.0           126   \n",
       "4  Portland    OR       97218  45.588906 -122.593331    4.0           126   \n",
       "\n",
       "   ...                                         attributes  \\\n",
       "0  ...  {'RestaurantsTakeOut': 'True', 'RestaurantsAtt...   \n",
       "1  ...  {'RestaurantsTakeOut': 'True', 'RestaurantsAtt...   \n",
       "2  ...  {'RestaurantsTakeOut': 'True', 'RestaurantsAtt...   \n",
       "3  ...  {'RestaurantsTakeOut': 'True', 'RestaurantsAtt...   \n",
       "4  ...  {'RestaurantsTakeOut': 'True', 'RestaurantsAtt...   \n",
       "\n",
       "                                          categories  \\\n",
       "0  Salad, Soup, Sandwiches, Delis, Restaurants, C...   \n",
       "1  Salad, Soup, Sandwiches, Delis, Restaurants, C...   \n",
       "2  Salad, Soup, Sandwiches, Delis, Restaurants, C...   \n",
       "3  Salad, Soup, Sandwiches, Delis, Restaurants, C...   \n",
       "4  Salad, Soup, Sandwiches, Delis, Restaurants, C...   \n",
       "\n",
       "                                               hours                 user_id  \\\n",
       "0  {'Monday': '5:0-18:0', 'Tuesday': '5:0-17:0', ...  24gb1QBBEl2xHtVeTzDsCQ   \n",
       "1  {'Monday': '5:0-18:0', 'Tuesday': '5:0-17:0', ...  AsDPajAdVBsXydg60AIsdw   \n",
       "2  {'Monday': '5:0-18:0', 'Tuesday': '5:0-17:0', ...  Eypq5gLLjCapBVVnMw_MyA   \n",
       "3  {'Monday': '5:0-18:0', 'Tuesday': '5:0-17:0', ...  X568BojbbH6cAxqXU5zLwA   \n",
       "4  {'Monday': '5:0-18:0', 'Tuesday': '5:0-17:0', ...  gQMsoHpjmzBmBQkkefrLXw   \n",
       "\n",
       "  review_stars                                               text  \\\n",
       "0            4  Elephant's contacted me the same day I posted ...   \n",
       "1            5  I'm not usually a fan of airport food. I usual...   \n",
       "2            4  If one must have breakfast at the airport, per...   \n",
       "3            5  Reasonably priced, tasty local joint. Lots of ...   \n",
       "4            5  Other than my own store, this is my go-to airp...   \n",
       "\n",
       "                  date                                           Sentence  \\\n",
       "0  2012-07-16 05:04:05                                                 []   \n",
       "1  2015-04-28 21:11:10  [However, I had no choice this past weekend on...   \n",
       "2  2015-11-18 18:50:05  [If one must have breakfast at the airport, pe...   \n",
       "3  2011-11-30 20:15:41  [Reasonably priced, tasty local joint., Beers ...   \n",
       "4  2016-08-12 23:47:28  [Fresh food, lots of allergy-friendly options,...   \n",
       "\n",
       "              Sentence Topics Sentence Sentiment  \n",
       "0                          []                 []  \n",
       "1               [[0, 1.0, 0]]          [-0.6821]  \n",
       "2               [[0, 1.0, 0]]           [0.6861]  \n",
       "3  [[0, 0, 1.0], [0, 0, 1.0]]  [0.9962, -0.8692]  \n",
       "4               [[0, 1.0, 0]]           [0.9964]  \n",
       "\n",
       "[5 rows x 21 columns]"
      ]
     },
     "execution_count": 18,
     "metadata": {},
     "output_type": "execute_result"
    }
   ],
   "source": [
    "reviews_filtered.head()"
   ]
  },
  {
   "cell_type": "markdown",
   "id": "2c676914",
   "metadata": {},
   "source": [
    "We need to a little more processing. Firstly, each row currently corresponds to a review. However, it needs to correspond to a sentence. So we user pd.explode on the Sentence sentences to accomplish this."
   ]
  },
  {
   "cell_type": "code",
   "execution_count": 19,
   "id": "8b492a51",
   "metadata": {},
   "outputs": [],
   "source": [
    "def process_split_df(reviews):\n",
    "    review_names = reviews[['business_id','user_id','name','review_stars']]\n",
    "\n",
    "    reviews_split = reviews[['business_id','user_id', 'Sentence', 'Sentence Topics', 'Sentence Sentiment']]\n",
    "\n",
    "    reviews_split = reviews_split.set_index(['business_id','user_id']).apply(pd.Series.explode).reset_index()\n",
    "    reviews_split = reviews_split[~reviews_split['Sentence Topics'].isnull()]\n",
    "\n",
    "    reviews_processed = pd.merge(review_names, reviews_split, on = ['business_id','user_id'], how = 'inner')\n",
    "    return reviews_processed\n"
   ]
  },
  {
   "cell_type": "code",
   "execution_count": 24,
   "id": "15715dd2",
   "metadata": {},
   "outputs": [
    {
     "data": {
      "text/html": [
       "<div>\n",
       "<style scoped>\n",
       "    .dataframe tbody tr th:only-of-type {\n",
       "        vertical-align: middle;\n",
       "    }\n",
       "\n",
       "    .dataframe tbody tr th {\n",
       "        vertical-align: top;\n",
       "    }\n",
       "\n",
       "    .dataframe thead th {\n",
       "        text-align: right;\n",
       "    }\n",
       "</style>\n",
       "<table border=\"1\" class=\"dataframe\">\n",
       "  <thead>\n",
       "    <tr style=\"text-align: right;\">\n",
       "      <th></th>\n",
       "      <th>business_id</th>\n",
       "      <th>user_id</th>\n",
       "      <th>name</th>\n",
       "      <th>review_stars</th>\n",
       "      <th>Sentence</th>\n",
       "      <th>Sentence Topics</th>\n",
       "      <th>Sentence Sentiment</th>\n",
       "    </tr>\n",
       "  </thead>\n",
       "  <tbody>\n",
       "    <tr>\n",
       "      <th>0</th>\n",
       "      <td>tCbdrRPZA0oiIYSmHG3J0w</td>\n",
       "      <td>AsDPajAdVBsXydg60AIsdw</td>\n",
       "      <td>Flying Elephants at PDX</td>\n",
       "      <td>5</td>\n",
       "      <td>However, I had no choice this past weekend on ...</td>\n",
       "      <td>[0, 1.0, 0]</td>\n",
       "      <td>-0.6821</td>\n",
       "    </tr>\n",
       "    <tr>\n",
       "      <th>1</th>\n",
       "      <td>tCbdrRPZA0oiIYSmHG3J0w</td>\n",
       "      <td>Eypq5gLLjCapBVVnMw_MyA</td>\n",
       "      <td>Flying Elephants at PDX</td>\n",
       "      <td>4</td>\n",
       "      <td>If one must have breakfast at the airport, per...</td>\n",
       "      <td>[0, 1.0, 0]</td>\n",
       "      <td>0.6861</td>\n",
       "    </tr>\n",
       "    <tr>\n",
       "      <th>2</th>\n",
       "      <td>tCbdrRPZA0oiIYSmHG3J0w</td>\n",
       "      <td>X568BojbbH6cAxqXU5zLwA</td>\n",
       "      <td>Flying Elephants at PDX</td>\n",
       "      <td>5</td>\n",
       "      <td>Reasonably priced, tasty local joint.</td>\n",
       "      <td>[0, 0, 1.0]</td>\n",
       "      <td>0.9962</td>\n",
       "    </tr>\n",
       "    <tr>\n",
       "      <th>3</th>\n",
       "      <td>tCbdrRPZA0oiIYSmHG3J0w</td>\n",
       "      <td>X568BojbbH6cAxqXU5zLwA</td>\n",
       "      <td>Flying Elephants at PDX</td>\n",
       "      <td>5</td>\n",
       "      <td>Beers for pretty cheap compared to a typical r...</td>\n",
       "      <td>[0, 0, 1.0]</td>\n",
       "      <td>-0.8692</td>\n",
       "    </tr>\n",
       "    <tr>\n",
       "      <th>4</th>\n",
       "      <td>tCbdrRPZA0oiIYSmHG3J0w</td>\n",
       "      <td>gQMsoHpjmzBmBQkkefrLXw</td>\n",
       "      <td>Flying Elephants at PDX</td>\n",
       "      <td>5</td>\n",
       "      <td>Fresh food, lots of allergy-friendly options, ...</td>\n",
       "      <td>[0, 1.0, 0]</td>\n",
       "      <td>0.9964</td>\n",
       "    </tr>\n",
       "  </tbody>\n",
       "</table>\n",
       "</div>"
      ],
      "text/plain": [
       "              business_id                 user_id                     name  \\\n",
       "0  tCbdrRPZA0oiIYSmHG3J0w  AsDPajAdVBsXydg60AIsdw  Flying Elephants at PDX   \n",
       "1  tCbdrRPZA0oiIYSmHG3J0w  Eypq5gLLjCapBVVnMw_MyA  Flying Elephants at PDX   \n",
       "2  tCbdrRPZA0oiIYSmHG3J0w  X568BojbbH6cAxqXU5zLwA  Flying Elephants at PDX   \n",
       "3  tCbdrRPZA0oiIYSmHG3J0w  X568BojbbH6cAxqXU5zLwA  Flying Elephants at PDX   \n",
       "4  tCbdrRPZA0oiIYSmHG3J0w  gQMsoHpjmzBmBQkkefrLXw  Flying Elephants at PDX   \n",
       "\n",
       "   review_stars                                           Sentence  \\\n",
       "0             5  However, I had no choice this past weekend on ...   \n",
       "1             4  If one must have breakfast at the airport, per...   \n",
       "2             5              Reasonably priced, tasty local joint.   \n",
       "3             5  Beers for pretty cheap compared to a typical r...   \n",
       "4             5  Fresh food, lots of allergy-friendly options, ...   \n",
       "\n",
       "  Sentence Topics Sentence Sentiment  \n",
       "0     [0, 1.0, 0]            -0.6821  \n",
       "1     [0, 1.0, 0]             0.6861  \n",
       "2     [0, 0, 1.0]             0.9962  \n",
       "3     [0, 0, 1.0]            -0.8692  \n",
       "4     [0, 1.0, 0]             0.9964  "
      ]
     },
     "execution_count": 24,
     "metadata": {},
     "output_type": "execute_result"
    }
   ],
   "source": [
    "reviews_split = process_split_df(reviews_filtered)\n",
    "reviews_split.head()"
   ]
  },
  {
   "cell_type": "markdown",
   "id": "d9df1174",
   "metadata": {},
   "source": [
    "Also need to scale the Sentiment Analysis score. Currently it is from -1 to 1, and it is also skewed towards the ends, since it is a classifier algorithm. I will use Quantile Transformer to scale it to a linear variable from 0 to 1, which is more suitable for further modeling."
   ]
  },
  {
   "cell_type": "code",
   "execution_count": 21,
   "id": "0175cc65",
   "metadata": {},
   "outputs": [],
   "source": [
    "def quantile_transform(df):\n",
    "    \n",
    "    from sklearn.preprocessing import QuantileTransformer\n",
    "    reviews_y = df[['Sentence Sentiment']]\n",
    "    \n",
    "    qt = QuantileTransformer()\n",
    "    qt2 = QuantileTransformer()\n",
    "    X_1 = reviews_y.loc[reviews_y['Sentence Sentiment'] >= 0]\n",
    "    X_2 = reviews_y.loc[reviews_y['Sentence Sentiment'] < 0]\n",
    "    \n",
    "    X_1['flair_quantile_custom'] = qt.fit_transform(X_1[['Sentence Sentiment']])/2 + 0.5\n",
    "    X_2['flair_quantile_custom'] = qt2.fit_transform(X_2[['Sentence Sentiment']])/2\n",
    "    \n",
    "    X = X_1.append(X_2)\n",
    "    X.sort_index(inplace = True)\n",
    "    \n",
    "    return X['flair_quantile_custom']\n"
   ]
  },
  {
   "cell_type": "code",
   "execution_count": 25,
   "id": "f0274ecb",
   "metadata": {},
   "outputs": [
    {
     "name": "stderr",
     "output_type": "stream",
     "text": [
      "<ipython-input-21-b6cff6273ffd>:11: SettingWithCopyWarning: \n",
      "A value is trying to be set on a copy of a slice from a DataFrame.\n",
      "Try using .loc[row_indexer,col_indexer] = value instead\n",
      "\n",
      "See the caveats in the documentation: https://pandas.pydata.org/pandas-docs/stable/user_guide/indexing.html#returning-a-view-versus-a-copy\n",
      "  X_1['flair_quantile_custom'] = qt.fit_transform(X_1[['Sentence Sentiment']])/2 + 0.5\n",
      "<ipython-input-21-b6cff6273ffd>:12: SettingWithCopyWarning: \n",
      "A value is trying to be set on a copy of a slice from a DataFrame.\n",
      "Try using .loc[row_indexer,col_indexer] = value instead\n",
      "\n",
      "See the caveats in the documentation: https://pandas.pydata.org/pandas-docs/stable/user_guide/indexing.html#returning-a-view-versus-a-copy\n",
      "  X_2['flair_quantile_custom'] = qt2.fit_transform(X_2[['Sentence Sentiment']])/2\n"
     ]
    },
    {
     "data": {
      "text/html": [
       "<div>\n",
       "<style scoped>\n",
       "    .dataframe tbody tr th:only-of-type {\n",
       "        vertical-align: middle;\n",
       "    }\n",
       "\n",
       "    .dataframe tbody tr th {\n",
       "        vertical-align: top;\n",
       "    }\n",
       "\n",
       "    .dataframe thead th {\n",
       "        text-align: right;\n",
       "    }\n",
       "</style>\n",
       "<table border=\"1\" class=\"dataframe\">\n",
       "  <thead>\n",
       "    <tr style=\"text-align: right;\">\n",
       "      <th></th>\n",
       "      <th>business_id</th>\n",
       "      <th>user_id</th>\n",
       "      <th>name</th>\n",
       "      <th>review_stars</th>\n",
       "      <th>Sentence</th>\n",
       "      <th>Sentence Topics</th>\n",
       "      <th>Sentence Sentiment</th>\n",
       "    </tr>\n",
       "  </thead>\n",
       "  <tbody>\n",
       "    <tr>\n",
       "      <th>0</th>\n",
       "      <td>tCbdrRPZA0oiIYSmHG3J0w</td>\n",
       "      <td>AsDPajAdVBsXydg60AIsdw</td>\n",
       "      <td>Flying Elephants at PDX</td>\n",
       "      <td>5</td>\n",
       "      <td>However, I had no choice this past weekend on ...</td>\n",
       "      <td>[0, 1.0, 0]</td>\n",
       "      <td>0.470877</td>\n",
       "    </tr>\n",
       "    <tr>\n",
       "      <th>1</th>\n",
       "      <td>tCbdrRPZA0oiIYSmHG3J0w</td>\n",
       "      <td>Eypq5gLLjCapBVVnMw_MyA</td>\n",
       "      <td>Flying Elephants at PDX</td>\n",
       "      <td>4</td>\n",
       "      <td>If one must have breakfast at the airport, per...</td>\n",
       "      <td>[0, 1.0, 0]</td>\n",
       "      <td>0.520816</td>\n",
       "    </tr>\n",
       "    <tr>\n",
       "      <th>2</th>\n",
       "      <td>tCbdrRPZA0oiIYSmHG3J0w</td>\n",
       "      <td>X568BojbbH6cAxqXU5zLwA</td>\n",
       "      <td>Flying Elephants at PDX</td>\n",
       "      <td>5</td>\n",
       "      <td>Reasonably priced, tasty local joint.</td>\n",
       "      <td>[0, 0, 1.0]</td>\n",
       "      <td>0.807057</td>\n",
       "    </tr>\n",
       "    <tr>\n",
       "      <th>3</th>\n",
       "      <td>tCbdrRPZA0oiIYSmHG3J0w</td>\n",
       "      <td>X568BojbbH6cAxqXU5zLwA</td>\n",
       "      <td>Flying Elephants at PDX</td>\n",
       "      <td>5</td>\n",
       "      <td>Beers for pretty cheap compared to a typical r...</td>\n",
       "      <td>[0, 0, 1.0]</td>\n",
       "      <td>0.425541</td>\n",
       "    </tr>\n",
       "    <tr>\n",
       "      <th>4</th>\n",
       "      <td>tCbdrRPZA0oiIYSmHG3J0w</td>\n",
       "      <td>gQMsoHpjmzBmBQkkefrLXw</td>\n",
       "      <td>Flying Elephants at PDX</td>\n",
       "      <td>5</td>\n",
       "      <td>Fresh food, lots of allergy-friendly options, ...</td>\n",
       "      <td>[0, 1.0, 0]</td>\n",
       "      <td>0.813814</td>\n",
       "    </tr>\n",
       "  </tbody>\n",
       "</table>\n",
       "</div>"
      ],
      "text/plain": [
       "              business_id                 user_id                     name  \\\n",
       "0  tCbdrRPZA0oiIYSmHG3J0w  AsDPajAdVBsXydg60AIsdw  Flying Elephants at PDX   \n",
       "1  tCbdrRPZA0oiIYSmHG3J0w  Eypq5gLLjCapBVVnMw_MyA  Flying Elephants at PDX   \n",
       "2  tCbdrRPZA0oiIYSmHG3J0w  X568BojbbH6cAxqXU5zLwA  Flying Elephants at PDX   \n",
       "3  tCbdrRPZA0oiIYSmHG3J0w  X568BojbbH6cAxqXU5zLwA  Flying Elephants at PDX   \n",
       "4  tCbdrRPZA0oiIYSmHG3J0w  gQMsoHpjmzBmBQkkefrLXw  Flying Elephants at PDX   \n",
       "\n",
       "   review_stars                                           Sentence  \\\n",
       "0             5  However, I had no choice this past weekend on ...   \n",
       "1             4  If one must have breakfast at the airport, per...   \n",
       "2             5              Reasonably priced, tasty local joint.   \n",
       "3             5  Beers for pretty cheap compared to a typical r...   \n",
       "4             5  Fresh food, lots of allergy-friendly options, ...   \n",
       "\n",
       "  Sentence Topics  Sentence Sentiment  \n",
       "0     [0, 1.0, 0]            0.470877  \n",
       "1     [0, 1.0, 0]            0.520816  \n",
       "2     [0, 0, 1.0]            0.807057  \n",
       "3     [0, 0, 1.0]            0.425541  \n",
       "4     [0, 1.0, 0]            0.813814  "
      ]
     },
     "execution_count": 25,
     "metadata": {},
     "output_type": "execute_result"
    }
   ],
   "source": [
    "reviews_split['Sentence Sentiment'] = quantile_transform(reviews_split)\n",
    "\n",
    "reviews_split.head()"
   ]
  },
  {
   "cell_type": "markdown",
   "id": "7c4b4940",
   "metadata": {},
   "source": [
    "## Linear Regression\n",
    "\n",
    "The next step is to prepare the data for regression. This can be done in various ways, but for our study, we care about what is happening at the restaurant level, so aggregation will be done to average topic sentiments and review ratings across each restaurant. The function `data_aggregator` goes through this process."
   ]
  },
  {
   "cell_type": "code",
   "execution_count": 26,
   "id": "87a480ac",
   "metadata": {},
   "outputs": [],
   "source": [
    "def data_aggregator(reviews_split):\n",
    "    \n",
    "    #First split the Sentence Topics column into columns for your topics. In my case: Env, Serv, Pr\n",
    "    def split_topics(x):\n",
    "        return x[0],x[1],x[2]\n",
    "\n",
    "    reviews_split['Env'], reviews_split['Serv'], reviews_split['Pr'] =  zip(*reviews_split['Sentence Topics'].apply(split_topics))\n",
    "\n",
    "    #Any Topic Percentages with 0s should be replaced with nan\n",
    "    def set_nan(x):\n",
    "        if x == 0:\n",
    "            return np.nan\n",
    "        else:\n",
    "            return x\n",
    "    \n",
    "    \n",
    "    \n",
    "    reviews_split['Env'] = reviews_split['Env'].apply(set_nan)\n",
    "    reviews_split['Serv'] = reviews_split['Serv'].apply(set_nan)\n",
    "    reviews_split['Pr'] = reviews_split['Pr'].apply(set_nan)\n",
    "\n",
    "    #Now, for each sentence, we weigh the score by normalizing it against the proportion across the entire restaurant. We will sum this up later.\n",
    "    #So this is a way to proportionalize the sentiment score based on topic percentages for all sentences in a review.\n",
    "    def weight_sentiment(df, x,y):\n",
    "        return (df[x]*df[y])/(df[x].sum())\n",
    "\n",
    "    grouped_env = pd.DataFrame(reviews_split.groupby(['business_id']).apply(weight_sentiment, x = 'Env', y = 'Sentence Sentiment')) \n",
    "    grouped_env = grouped_env.rename(columns = {0: 'Env'})\n",
    "    grouped_serv = pd.DataFrame(reviews_split.groupby(['business_id']).apply(weight_sentiment, x = 'Serv', y = 'Sentence Sentiment'))\n",
    "    grouped_serv = grouped_serv.rename(columns = {0: 'Serv'})\n",
    "    grouped_price = pd.DataFrame(reviews_split.groupby(['business_id']).apply(weight_sentiment, x = 'Pr', y = 'Sentence Sentiment'))  \n",
    "    grouped_price = grouped_price.rename(columns = {0: 'Pr'})\n",
    "\n",
    "    #Sum up all weighted sentences for each review, to obtain the final Sentiment Score for each topic for each restaurant\n",
    "    def check_nan(df, x):\n",
    "        if df[x].isnull().all() == True:\n",
    "            return np.nan\n",
    "        else:\n",
    "            return df[x].sum()\n",
    "    res_env = grouped_env.groupby(['business_id']).apply(check_nan, x = 'Env')\n",
    "    res_env = res_env.reset_index().rename(columns = {0: 'Env'})\n",
    "    res_serv = grouped_serv.groupby(['business_id']).apply(check_nan, x = 'Serv')\n",
    "    res_serv = res_serv.reset_index().rename(columns = {0 : 'Serv'})\n",
    "    res_price = grouped_price.groupby(['business_id']).apply(check_nan, x = 'Pr')\n",
    "    res_price = res_price.reset_index().rename(columns = {0 : 'Pr'})\n",
    "\n",
    "    #Now get ratings for each restaurant, and let's combine the columns to get the final dataframe\n",
    "    res_rating = reviews_split.groupby(['business_id','name'], as_index = False)['review_stars'].mean()\n",
    "\n",
    "    res_rating = res_rating.merge(res_env, left_on = 'business_id', right_on = 'business_id')\n",
    "    res_rating = res_rating.merge(res_serv, left_on = 'business_id', right_on = 'business_id')\n",
    "    res_rating = res_rating.merge(res_price, left_on = 'business_id', right_on = 'business_id')\n",
    "    \n",
    "    return res_rating\n"
   ]
  },
  {
   "cell_type": "code",
   "execution_count": 27,
   "id": "d9e85be2",
   "metadata": {},
   "outputs": [
    {
     "data": {
      "text/html": [
       "<div>\n",
       "<style scoped>\n",
       "    .dataframe tbody tr th:only-of-type {\n",
       "        vertical-align: middle;\n",
       "    }\n",
       "\n",
       "    .dataframe tbody tr th {\n",
       "        vertical-align: top;\n",
       "    }\n",
       "\n",
       "    .dataframe thead th {\n",
       "        text-align: right;\n",
       "    }\n",
       "</style>\n",
       "<table border=\"1\" class=\"dataframe\">\n",
       "  <thead>\n",
       "    <tr style=\"text-align: right;\">\n",
       "      <th></th>\n",
       "      <th>business_id</th>\n",
       "      <th>name</th>\n",
       "      <th>review_stars</th>\n",
       "      <th>Env</th>\n",
       "      <th>Serv</th>\n",
       "      <th>Pr</th>\n",
       "    </tr>\n",
       "  </thead>\n",
       "  <tbody>\n",
       "    <tr>\n",
       "      <th>0</th>\n",
       "      <td>--164t1nclzzmca7eDiJMw</td>\n",
       "      <td>Me So Hungry</td>\n",
       "      <td>3.655172</td>\n",
       "      <td>0.489427</td>\n",
       "      <td>0.539002</td>\n",
       "      <td>0.688520</td>\n",
       "    </tr>\n",
       "    <tr>\n",
       "      <th>1</th>\n",
       "      <td>-1ShItlulHnBsoOQWnblzw</td>\n",
       "      <td>Super Burrito at the Water Tank</td>\n",
       "      <td>2.750000</td>\n",
       "      <td>NaN</td>\n",
       "      <td>0.311100</td>\n",
       "      <td>0.222764</td>\n",
       "    </tr>\n",
       "    <tr>\n",
       "      <th>2</th>\n",
       "      <td>-A2KzV0CzAx30XzMjrTubw</td>\n",
       "      <td>Pollo Tropical</td>\n",
       "      <td>2.804878</td>\n",
       "      <td>0.308171</td>\n",
       "      <td>0.421076</td>\n",
       "      <td>0.610541</td>\n",
       "    </tr>\n",
       "    <tr>\n",
       "      <th>3</th>\n",
       "      <td>-DISJqPp4zcDVw7R-MOjog</td>\n",
       "      <td>Doc Chey's Dragon Bowl</td>\n",
       "      <td>2.960784</td>\n",
       "      <td>0.579243</td>\n",
       "      <td>0.452476</td>\n",
       "      <td>0.434208</td>\n",
       "    </tr>\n",
       "    <tr>\n",
       "      <th>4</th>\n",
       "      <td>-Eg1pMVoWg8YR6-O4QuTxw</td>\n",
       "      <td>Fiouna's Persian Fusion Cuisine</td>\n",
       "      <td>3.080645</td>\n",
       "      <td>0.701647</td>\n",
       "      <td>0.541684</td>\n",
       "      <td>0.339242</td>\n",
       "    </tr>\n",
       "    <tr>\n",
       "      <th>5</th>\n",
       "      <td>-HoWDZGnCl1MjORMVMrV3A</td>\n",
       "      <td>Garden Grove</td>\n",
       "      <td>2.236641</td>\n",
       "      <td>0.480783</td>\n",
       "      <td>0.473277</td>\n",
       "      <td>0.240789</td>\n",
       "    </tr>\n",
       "    <tr>\n",
       "      <th>6</th>\n",
       "      <td>-IIvmjoEKa9Trhf4OxzJeA</td>\n",
       "      <td>Caroline</td>\n",
       "      <td>3.429204</td>\n",
       "      <td>0.635555</td>\n",
       "      <td>0.519769</td>\n",
       "      <td>0.382222</td>\n",
       "    </tr>\n",
       "    <tr>\n",
       "      <th>7</th>\n",
       "      <td>-Lk-Bf5heuKTl4n7bvptew</td>\n",
       "      <td>Portobello</td>\n",
       "      <td>3.000000</td>\n",
       "      <td>0.539296</td>\n",
       "      <td>0.507195</td>\n",
       "      <td>0.388068</td>\n",
       "    </tr>\n",
       "    <tr>\n",
       "      <th>8</th>\n",
       "      <td>-TOfMl4hLjH1iOQStV1opw</td>\n",
       "      <td>Oba</td>\n",
       "      <td>3.555396</td>\n",
       "      <td>0.641514</td>\n",
       "      <td>0.558332</td>\n",
       "      <td>0.490022</td>\n",
       "    </tr>\n",
       "    <tr>\n",
       "      <th>9</th>\n",
       "      <td>-_GnwXmzC3DXsHR9nyaC2g</td>\n",
       "      <td>Curra's Grill</td>\n",
       "      <td>3.154966</td>\n",
       "      <td>0.462375</td>\n",
       "      <td>0.483652</td>\n",
       "      <td>0.458629</td>\n",
       "    </tr>\n",
       "  </tbody>\n",
       "</table>\n",
       "</div>"
      ],
      "text/plain": [
       "              business_id                             name  review_stars  \\\n",
       "0  --164t1nclzzmca7eDiJMw                     Me So Hungry      3.655172   \n",
       "1  -1ShItlulHnBsoOQWnblzw  Super Burrito at the Water Tank      2.750000   \n",
       "2  -A2KzV0CzAx30XzMjrTubw                   Pollo Tropical      2.804878   \n",
       "3  -DISJqPp4zcDVw7R-MOjog           Doc Chey's Dragon Bowl      2.960784   \n",
       "4  -Eg1pMVoWg8YR6-O4QuTxw  Fiouna's Persian Fusion Cuisine      3.080645   \n",
       "5  -HoWDZGnCl1MjORMVMrV3A                     Garden Grove      2.236641   \n",
       "6  -IIvmjoEKa9Trhf4OxzJeA                         Caroline      3.429204   \n",
       "7  -Lk-Bf5heuKTl4n7bvptew                       Portobello      3.000000   \n",
       "8  -TOfMl4hLjH1iOQStV1opw                              Oba      3.555396   \n",
       "9  -_GnwXmzC3DXsHR9nyaC2g                    Curra's Grill      3.154966   \n",
       "\n",
       "        Env      Serv        Pr  \n",
       "0  0.489427  0.539002  0.688520  \n",
       "1       NaN  0.311100  0.222764  \n",
       "2  0.308171  0.421076  0.610541  \n",
       "3  0.579243  0.452476  0.434208  \n",
       "4  0.701647  0.541684  0.339242  \n",
       "5  0.480783  0.473277  0.240789  \n",
       "6  0.635555  0.519769  0.382222  \n",
       "7  0.539296  0.507195  0.388068  \n",
       "8  0.641514  0.558332  0.490022  \n",
       "9  0.462375  0.483652  0.458629  "
      ]
     },
     "execution_count": 27,
     "metadata": {},
     "output_type": "execute_result"
    }
   ],
   "source": [
    "review_aggregated = data_aggregator(reviews_split)\n",
    "\n",
    "review_aggregated.head(10)"
   ]
  },
  {
   "cell_type": "markdown",
   "id": "6de742cc",
   "metadata": {},
   "source": [
    "Finally, lets plot the figure to see the results in action"
   ]
  },
  {
   "cell_type": "code",
   "execution_count": 30,
   "id": "c669d570",
   "metadata": {},
   "outputs": [
    {
     "data": {
      "image/png": "[encoded data removed]",
      "text/plain": [
       "<Figure size 648x504 with 1 Axes>"
      ]
     },
     "metadata": {
      "needs_background": "light"
     },
     "output_type": "display_data"
    }
   ],
   "source": [
    "from sklearn.linear_model import LinearRegression\n",
    "\n",
    "env = review_aggregated[['Env','review_stars']]\n",
    "env = env[~env['Env'].isna()]\n",
    "\n",
    "env_reg = LinearRegression()\n",
    "env_reg.fit(np.array(env['Env']).reshape(-1,1), env['review_stars'])\n",
    "env_reg.score(np.array(env['Env']).reshape(-1,1), env['review_stars'])\n",
    "env_reg.coef_\n",
    "\n",
    "serv = review_aggregated[['Serv','review_stars']]\n",
    "serv = serv[~serv['Serv'].isna()]\n",
    "\n",
    "serv_reg = LinearRegression()\n",
    "serv_reg.fit(np.array(serv['Serv']).reshape(-1,1), serv['review_stars'])\n",
    "serv_reg.score(np.array(serv['Serv']).reshape(-1,1), serv['review_stars'])\n",
    "serv_reg.coef_\n",
    "\n",
    "Pr = review_aggregated[['Pr','review_stars']]\n",
    "Pr = Pr[~Pr['Pr'].isna()]\n",
    "\n",
    "Pr_reg = LinearRegression()\n",
    "Pr_reg.fit(np.array(Pr['Pr']).reshape(-1,1), Pr['review_stars'])\n",
    "Pr_reg.score(np.array(Pr['Pr']).reshape(-1,1), Pr['review_stars'])\n",
    "Pr_reg.coef_\n",
    "\n",
    "import matplotlib.pyplot as plt\n",
    "import seaborn as sns\n",
    "\n",
    "plt.figure(figsize = (9,7))\n",
    "plt.style.use('ggplot')\n",
    "sns.regplot(x = env['Env'], y =  env['review_stars'], scatter = False)\n",
    "sns.regplot(x = serv['Serv'], y =  serv['review_stars'], scatter = False)\n",
    "sns.regplot(x = Pr['Pr'], y =  Pr['review_stars'], scatter = False)\n",
    "plt.title('Review Stars vs Sentiment of Topics')\n",
    "plt.xlabel('Sentiment of Topics')\n",
    "plt.ylabel('Review Stars (1-5)')\n",
    "plt.legend(['Environment -  $R^{2}$: 0.33, Coeff: 2.67', 'Service          -  $R^{2}$: 0.81, Coeff: 6.34','Price              -  $R^{2}$: 0.39, Coeff: 3.02'])\n",
    "plt.savefig('plt.png', dpi=300)"
   ]
  },
  {
   "cell_type": "code",
   "execution_count": null,
   "id": "0c564784",
   "metadata": {},
   "outputs": [],
   "source": []
  }
 ],
 "metadata": {
  "kernelspec": {
   "display_name": "Python 3",
   "language": "python",
   "name": "python3"
  },
  "language_info": {
   "codemirror_mode": {
    "name": "ipython",
    "version": 3
   },
   "file_extension": ".py",
   "mimetype": "text/x-python",
   "name": "python",
   "nbconvert_exporter": "python",
   "pygments_lexer": "ipython3",
   "version": "3.8.10"
  }
 },
 "nbformat": 4,
 "nbformat_minor": 5
}
