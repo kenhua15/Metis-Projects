{
 "cells": [
  {
   "cell_type": "markdown",
   "id": "c6906bc3",
   "metadata": {},
   "source": [
    "## Regression Analysis\n",
    "\n",
    "Now that our data is properly cleaned, it is ready for regression. We can split this into two steps:\n",
    "\n",
    "1) Regression Exploratory Analysis\n",
    "2) Model Optimization"
   ]
  },
  {
   "cell_type": "code",
   "execution_count": 1,
   "id": "82d39c73",
   "metadata": {},
   "outputs": [],
   "source": [
    "import pandas as pd\n",
    "import numpy as np\n",
    "import statsmodels.api as sm\n",
    "from sklearn.linear_model import Lasso, Ridge, LassoCV, RidgeCV, LinearRegression\n",
    "import seaborn as sns\n"
   ]
  },
  {
   "cell_type": "markdown",
   "id": "7ae1db2f",
   "metadata": {},
   "source": [
    "### Exploratory Analysis for Regression\n",
    "\n",
    "First let's load the cleaned dataset. We will do this demonstration on the high income segment of the original population. The dataframe has some information about each business, the area each business is contained in, as well as sentiment analysis of keyword mentions in the user reviews for each business."
   ]
  },
  {
   "cell_type": "code",
   "execution_count": 31,
   "id": "07fe1c5f",
   "metadata": {},
   "outputs": [
    {
     "data": {
      "text/html": [
       "<div>\n",
       "<style scoped>\n",
       "    .dataframe tbody tr th:only-of-type {\n",
       "        vertical-align: middle;\n",
       "    }\n",
       "\n",
       "    .dataframe tbody tr th {\n",
       "        vertical-align: top;\n",
       "    }\n",
       "\n",
       "    .dataframe thead th {\n",
       "        text-align: right;\n",
       "    }\n",
       "</style>\n",
       "<table border=\"1\" class=\"dataframe\">\n",
       "  <thead>\n",
       "    <tr style=\"text-align: right;\">\n",
       "      <th></th>\n",
       "      <th>name</th>\n",
       "      <th>Unnamed: 0</th>\n",
       "      <th>postal_code</th>\n",
       "      <th>latitude</th>\n",
       "      <th>longitude</th>\n",
       "      <th>stars</th>\n",
       "      <th>review_count</th>\n",
       "      <th>is_open</th>\n",
       "      <th>Unnamed: 0.1</th>\n",
       "      <th>Zip Code</th>\n",
       "      <th>...</th>\n",
       "      <th>Median Household Income</th>\n",
       "      <th>Avg Commute Time</th>\n",
       "      <th>review_stars</th>\n",
       "      <th>Management</th>\n",
       "      <th>Atmosphere</th>\n",
       "      <th>Sanitation</th>\n",
       "      <th>Speed</th>\n",
       "      <th>Service</th>\n",
       "      <th>Food</th>\n",
       "      <th>High End</th>\n",
       "    </tr>\n",
       "  </thead>\n",
       "  <tbody>\n",
       "    <tr>\n",
       "      <th>0</th>\n",
       "      <td>'Ohana</td>\n",
       "      <td>124502.620658</td>\n",
       "      <td>32830.0</td>\n",
       "      <td>28.405163</td>\n",
       "      <td>-81.583242</td>\n",
       "      <td>4.0</td>\n",
       "      <td>1065.0</td>\n",
       "      <td>1.0</td>\n",
       "      <td>0.0</td>\n",
       "      <td>32830.0</td>\n",
       "      <td>...</td>\n",
       "      <td>35000.0</td>\n",
       "      <td>0.0</td>\n",
       "      <td>4.041133</td>\n",
       "      <td>0.338374</td>\n",
       "      <td>0.557899</td>\n",
       "      <td>0.162988</td>\n",
       "      <td>0.234307</td>\n",
       "      <td>0.301519</td>\n",
       "      <td>0.458047</td>\n",
       "      <td>0.486640</td>\n",
       "    </tr>\n",
       "    <tr>\n",
       "      <th>1</th>\n",
       "      <td>081 Wood Fired Pizza</td>\n",
       "      <td>61556.400000</td>\n",
       "      <td>32801.0</td>\n",
       "      <td>28.540765</td>\n",
       "      <td>-81.377648</td>\n",
       "      <td>4.5</td>\n",
       "      <td>20.0</td>\n",
       "      <td>0.0</td>\n",
       "      <td>0.0</td>\n",
       "      <td>32801.0</td>\n",
       "      <td>...</td>\n",
       "      <td>32992.0</td>\n",
       "      <td>19.7</td>\n",
       "      <td>4.700000</td>\n",
       "      <td>0.077200</td>\n",
       "      <td>0.624900</td>\n",
       "      <td>0.340000</td>\n",
       "      <td>0.540500</td>\n",
       "      <td>0.388450</td>\n",
       "      <td>0.407321</td>\n",
       "      <td>0.462420</td>\n",
       "    </tr>\n",
       "    <tr>\n",
       "      <th>2</th>\n",
       "      <td>10 Barrel Brewing Portland</td>\n",
       "      <td>857487.002088</td>\n",
       "      <td>97209.0</td>\n",
       "      <td>45.525984</td>\n",
       "      <td>-122.685468</td>\n",
       "      <td>4.0</td>\n",
       "      <td>942.0</td>\n",
       "      <td>1.0</td>\n",
       "      <td>0.0</td>\n",
       "      <td>97209.0</td>\n",
       "      <td>...</td>\n",
       "      <td>30833.0</td>\n",
       "      <td>23.3</td>\n",
       "      <td>3.955115</td>\n",
       "      <td>0.240997</td>\n",
       "      <td>0.597809</td>\n",
       "      <td>0.506141</td>\n",
       "      <td>0.306973</td>\n",
       "      <td>0.344668</td>\n",
       "      <td>0.550435</td>\n",
       "      <td>0.418221</td>\n",
       "    </tr>\n",
       "    <tr>\n",
       "      <th>3</th>\n",
       "      <td>101 By Teahaus</td>\n",
       "      <td>323466.608365</td>\n",
       "      <td>78752.0</td>\n",
       "      <td>30.337121</td>\n",
       "      <td>-97.716716</td>\n",
       "      <td>4.0</td>\n",
       "      <td>256.0</td>\n",
       "      <td>1.0</td>\n",
       "      <td>0.0</td>\n",
       "      <td>78752.0</td>\n",
       "      <td>...</td>\n",
       "      <td>36697.0</td>\n",
       "      <td>24.1</td>\n",
       "      <td>3.866920</td>\n",
       "      <td>0.246808</td>\n",
       "      <td>0.603185</td>\n",
       "      <td>0.625565</td>\n",
       "      <td>0.272090</td>\n",
       "      <td>0.399359</td>\n",
       "      <td>0.403279</td>\n",
       "      <td>0.365481</td>\n",
       "    </tr>\n",
       "    <tr>\n",
       "      <th>4</th>\n",
       "      <td>11th Street Station</td>\n",
       "      <td>852249.307692</td>\n",
       "      <td>78702.0</td>\n",
       "      <td>30.269190</td>\n",
       "      <td>-97.729194</td>\n",
       "      <td>3.0</td>\n",
       "      <td>39.0</td>\n",
       "      <td>0.0</td>\n",
       "      <td>0.0</td>\n",
       "      <td>78702.0</td>\n",
       "      <td>...</td>\n",
       "      <td>27695.0</td>\n",
       "      <td>21.1</td>\n",
       "      <td>3.179487</td>\n",
       "      <td>0.205975</td>\n",
       "      <td>0.288275</td>\n",
       "      <td>0.149440</td>\n",
       "      <td>0.235328</td>\n",
       "      <td>0.063539</td>\n",
       "      <td>0.235375</td>\n",
       "      <td>0.442269</td>\n",
       "    </tr>\n",
       "  </tbody>\n",
       "</table>\n",
       "<p>5 rows × 21 columns</p>\n",
       "</div>"
      ],
      "text/plain": [
       "                         name     Unnamed: 0  postal_code   latitude  \\\n",
       "0                      'Ohana  124502.620658      32830.0  28.405163   \n",
       "1        081 Wood Fired Pizza   61556.400000      32801.0  28.540765   \n",
       "2  10 Barrel Brewing Portland  857487.002088      97209.0  45.525984   \n",
       "3              101 By Teahaus  323466.608365      78752.0  30.337121   \n",
       "4         11th Street Station  852249.307692      78702.0  30.269190   \n",
       "\n",
       "    longitude  stars  review_count  is_open  Unnamed: 0.1  Zip Code  ...  \\\n",
       "0  -81.583242    4.0        1065.0      1.0           0.0   32830.0  ...   \n",
       "1  -81.377648    4.5          20.0      0.0           0.0   32801.0  ...   \n",
       "2 -122.685468    4.0         942.0      1.0           0.0   97209.0  ...   \n",
       "3  -97.716716    4.0         256.0      1.0           0.0   78752.0  ...   \n",
       "4  -97.729194    3.0          39.0      0.0           0.0   78702.0  ...   \n",
       "\n",
       "   Median Household Income  Avg Commute Time  review_stars  Management  \\\n",
       "0                  35000.0               0.0      4.041133    0.338374   \n",
       "1                  32992.0              19.7      4.700000    0.077200   \n",
       "2                  30833.0              23.3      3.955115    0.240997   \n",
       "3                  36697.0              24.1      3.866920    0.246808   \n",
       "4                  27695.0              21.1      3.179487    0.205975   \n",
       "\n",
       "   Atmosphere  Sanitation     Speed   Service      Food  High End  \n",
       "0    0.557899    0.162988  0.234307  0.301519  0.458047  0.486640  \n",
       "1    0.624900    0.340000  0.540500  0.388450  0.407321  0.462420  \n",
       "2    0.597809    0.506141  0.306973  0.344668  0.550435  0.418221  \n",
       "3    0.603185    0.625565  0.272090  0.399359  0.403279  0.365481  \n",
       "4    0.288275    0.149440  0.235328  0.063539  0.235375  0.442269  \n",
       "\n",
       "[5 rows x 21 columns]"
      ]
     },
     "execution_count": 31,
     "metadata": {},
     "output_type": "execute_result"
    }
   ],
   "source": [
    "grouped_data = pd.read_csv('Low_Grouped.csv')\n",
    "\n",
    "grouped_data.head()"
   ]
  },
  {
   "cell_type": "markdown",
   "id": "e2013a1d",
   "metadata": {},
   "source": [
    "In order to run the regression, the dataframe needs to be split into X (features) and Y (target). Y is the average stars for reviews given to the business (review_stars). X is all other columns, minus the target and some other unformatted, irrelevant variables."
   ]
  },
  {
   "cell_type": "code",
   "execution_count": 32,
   "id": "07511972",
   "metadata": {},
   "outputs": [
    {
     "name": "stderr",
     "output_type": "stream",
     "text": [
      "/Users/kenhua/opt/anaconda3/envs/metis/lib/python3.8/site-packages/statsmodels/tsa/tsatools.py:142: FutureWarning: In a future version of pandas all arguments of concat except for the argument 'objs' will be keyword-only\n",
      "  x = pd.concat(x[::order], 1)\n"
     ]
    },
    {
     "data": {
      "text/html": [
       "<div>\n",
       "<style scoped>\n",
       "    .dataframe tbody tr th:only-of-type {\n",
       "        vertical-align: middle;\n",
       "    }\n",
       "\n",
       "    .dataframe tbody tr th {\n",
       "        vertical-align: top;\n",
       "    }\n",
       "\n",
       "    .dataframe thead th {\n",
       "        text-align: right;\n",
       "    }\n",
       "</style>\n",
       "<table border=\"1\" class=\"dataframe\">\n",
       "  <thead>\n",
       "    <tr style=\"text-align: right;\">\n",
       "      <th></th>\n",
       "      <th>const</th>\n",
       "      <th>postal_code</th>\n",
       "      <th>latitude</th>\n",
       "      <th>longitude</th>\n",
       "      <th>review_count</th>\n",
       "      <th>is_open</th>\n",
       "      <th>Zip Code</th>\n",
       "      <th>Population</th>\n",
       "      <th>Median Household Income</th>\n",
       "      <th>Avg Commute Time</th>\n",
       "      <th>Management</th>\n",
       "      <th>Atmosphere</th>\n",
       "      <th>Sanitation</th>\n",
       "      <th>Speed</th>\n",
       "      <th>Service</th>\n",
       "      <th>Food</th>\n",
       "      <th>High End</th>\n",
       "    </tr>\n",
       "  </thead>\n",
       "  <tbody>\n",
       "    <tr>\n",
       "      <th>0</th>\n",
       "      <td>1.0</td>\n",
       "      <td>32830.0</td>\n",
       "      <td>28.405163</td>\n",
       "      <td>-81.583242</td>\n",
       "      <td>1065.0</td>\n",
       "      <td>1.0</td>\n",
       "      <td>32830.0</td>\n",
       "      <td>26.0</td>\n",
       "      <td>35000.0</td>\n",
       "      <td>0.0</td>\n",
       "      <td>0.338374</td>\n",
       "      <td>0.557899</td>\n",
       "      <td>0.162988</td>\n",
       "      <td>0.234307</td>\n",
       "      <td>0.301519</td>\n",
       "      <td>0.458047</td>\n",
       "      <td>0.486640</td>\n",
       "    </tr>\n",
       "    <tr>\n",
       "      <th>1</th>\n",
       "      <td>1.0</td>\n",
       "      <td>32801.0</td>\n",
       "      <td>28.540765</td>\n",
       "      <td>-81.377648</td>\n",
       "      <td>20.0</td>\n",
       "      <td>0.0</td>\n",
       "      <td>32801.0</td>\n",
       "      <td>12050.0</td>\n",
       "      <td>32992.0</td>\n",
       "      <td>19.7</td>\n",
       "      <td>0.077200</td>\n",
       "      <td>0.624900</td>\n",
       "      <td>0.340000</td>\n",
       "      <td>0.540500</td>\n",
       "      <td>0.388450</td>\n",
       "      <td>0.407321</td>\n",
       "      <td>0.462420</td>\n",
       "    </tr>\n",
       "    <tr>\n",
       "      <th>2</th>\n",
       "      <td>1.0</td>\n",
       "      <td>97209.0</td>\n",
       "      <td>45.525984</td>\n",
       "      <td>-122.685468</td>\n",
       "      <td>942.0</td>\n",
       "      <td>1.0</td>\n",
       "      <td>97209.0</td>\n",
       "      <td>14950.0</td>\n",
       "      <td>30833.0</td>\n",
       "      <td>23.3</td>\n",
       "      <td>0.240997</td>\n",
       "      <td>0.597809</td>\n",
       "      <td>0.506141</td>\n",
       "      <td>0.306973</td>\n",
       "      <td>0.344668</td>\n",
       "      <td>0.550435</td>\n",
       "      <td>0.418221</td>\n",
       "    </tr>\n",
       "    <tr>\n",
       "      <th>3</th>\n",
       "      <td>1.0</td>\n",
       "      <td>78752.0</td>\n",
       "      <td>30.337121</td>\n",
       "      <td>-97.716716</td>\n",
       "      <td>256.0</td>\n",
       "      <td>1.0</td>\n",
       "      <td>78752.0</td>\n",
       "      <td>18064.0</td>\n",
       "      <td>36697.0</td>\n",
       "      <td>24.1</td>\n",
       "      <td>0.246808</td>\n",
       "      <td>0.603185</td>\n",
       "      <td>0.625565</td>\n",
       "      <td>0.272090</td>\n",
       "      <td>0.399359</td>\n",
       "      <td>0.403279</td>\n",
       "      <td>0.365481</td>\n",
       "    </tr>\n",
       "    <tr>\n",
       "      <th>4</th>\n",
       "      <td>1.0</td>\n",
       "      <td>78702.0</td>\n",
       "      <td>30.269190</td>\n",
       "      <td>-97.729194</td>\n",
       "      <td>39.0</td>\n",
       "      <td>0.0</td>\n",
       "      <td>78702.0</td>\n",
       "      <td>21334.0</td>\n",
       "      <td>27695.0</td>\n",
       "      <td>21.1</td>\n",
       "      <td>0.205975</td>\n",
       "      <td>0.288275</td>\n",
       "      <td>0.149440</td>\n",
       "      <td>0.235328</td>\n",
       "      <td>0.063539</td>\n",
       "      <td>0.235375</td>\n",
       "      <td>0.442269</td>\n",
       "    </tr>\n",
       "    <tr>\n",
       "      <th>5</th>\n",
       "      <td>1.0</td>\n",
       "      <td>78741.0</td>\n",
       "      <td>30.245321</td>\n",
       "      <td>-97.730319</td>\n",
       "      <td>641.0</td>\n",
       "      <td>1.0</td>\n",
       "      <td>78741.0</td>\n",
       "      <td>44935.0</td>\n",
       "      <td>31569.0</td>\n",
       "      <td>24.0</td>\n",
       "      <td>0.473627</td>\n",
       "      <td>0.550566</td>\n",
       "      <td>0.549852</td>\n",
       "      <td>0.318655</td>\n",
       "      <td>0.539713</td>\n",
       "      <td>0.488674</td>\n",
       "      <td>0.481042</td>\n",
       "    </tr>\n",
       "    <tr>\n",
       "      <th>6</th>\n",
       "      <td>1.0</td>\n",
       "      <td>2111.0</td>\n",
       "      <td>42.351164</td>\n",
       "      <td>-71.061001</td>\n",
       "      <td>336.0</td>\n",
       "      <td>1.0</td>\n",
       "      <td>2111.0</td>\n",
       "      <td>7383.0</td>\n",
       "      <td>31116.0</td>\n",
       "      <td>19.4</td>\n",
       "      <td>0.046475</td>\n",
       "      <td>0.457633</td>\n",
       "      <td>0.081436</td>\n",
       "      <td>0.235222</td>\n",
       "      <td>0.152361</td>\n",
       "      <td>0.412588</td>\n",
       "      <td>0.414484</td>\n",
       "    </tr>\n",
       "    <tr>\n",
       "      <th>7</th>\n",
       "      <td>1.0</td>\n",
       "      <td>43215.0</td>\n",
       "      <td>39.955023</td>\n",
       "      <td>-82.998457</td>\n",
       "      <td>18.0</td>\n",
       "      <td>0.0</td>\n",
       "      <td>43215.0</td>\n",
       "      <td>12790.0</td>\n",
       "      <td>29151.0</td>\n",
       "      <td>16.2</td>\n",
       "      <td>0.665383</td>\n",
       "      <td>0.533150</td>\n",
       "      <td>0.750600</td>\n",
       "      <td>0.186355</td>\n",
       "      <td>0.178410</td>\n",
       "      <td>0.361921</td>\n",
       "      <td>0.463319</td>\n",
       "    </tr>\n",
       "    <tr>\n",
       "      <th>8</th>\n",
       "      <td>1.0</td>\n",
       "      <td>80544.0</td>\n",
       "      <td>40.103291</td>\n",
       "      <td>-105.172771</td>\n",
       "      <td>163.0</td>\n",
       "      <td>1.0</td>\n",
       "      <td>80544.0</td>\n",
       "      <td>111.0</td>\n",
       "      <td>0.0</td>\n",
       "      <td>0.0</td>\n",
       "      <td>0.538066</td>\n",
       "      <td>0.627197</td>\n",
       "      <td>0.398112</td>\n",
       "      <td>0.346866</td>\n",
       "      <td>0.466927</td>\n",
       "      <td>0.495763</td>\n",
       "      <td>0.421466</td>\n",
       "    </tr>\n",
       "    <tr>\n",
       "      <th>9</th>\n",
       "      <td>1.0</td>\n",
       "      <td>97205.0</td>\n",
       "      <td>45.520992</td>\n",
       "      <td>-122.683462</td>\n",
       "      <td>141.0</td>\n",
       "      <td>1.0</td>\n",
       "      <td>97205.0</td>\n",
       "      <td>7688.0</td>\n",
       "      <td>25373.0</td>\n",
       "      <td>23.9</td>\n",
       "      <td>0.366644</td>\n",
       "      <td>0.553547</td>\n",
       "      <td>0.379850</td>\n",
       "      <td>0.451015</td>\n",
       "      <td>0.549993</td>\n",
       "      <td>0.643022</td>\n",
       "      <td>0.392202</td>\n",
       "    </tr>\n",
       "  </tbody>\n",
       "</table>\n",
       "</div>"
      ],
      "text/plain": [
       "   const  postal_code   latitude   longitude  review_count  is_open  Zip Code  \\\n",
       "0    1.0      32830.0  28.405163  -81.583242        1065.0      1.0   32830.0   \n",
       "1    1.0      32801.0  28.540765  -81.377648          20.0      0.0   32801.0   \n",
       "2    1.0      97209.0  45.525984 -122.685468         942.0      1.0   97209.0   \n",
       "3    1.0      78752.0  30.337121  -97.716716         256.0      1.0   78752.0   \n",
       "4    1.0      78702.0  30.269190  -97.729194          39.0      0.0   78702.0   \n",
       "5    1.0      78741.0  30.245321  -97.730319         641.0      1.0   78741.0   \n",
       "6    1.0       2111.0  42.351164  -71.061001         336.0      1.0    2111.0   \n",
       "7    1.0      43215.0  39.955023  -82.998457          18.0      0.0   43215.0   \n",
       "8    1.0      80544.0  40.103291 -105.172771         163.0      1.0   80544.0   \n",
       "9    1.0      97205.0  45.520992 -122.683462         141.0      1.0   97205.0   \n",
       "\n",
       "   Population  Median Household Income  Avg Commute Time  Management  \\\n",
       "0        26.0                  35000.0               0.0    0.338374   \n",
       "1     12050.0                  32992.0              19.7    0.077200   \n",
       "2     14950.0                  30833.0              23.3    0.240997   \n",
       "3     18064.0                  36697.0              24.1    0.246808   \n",
       "4     21334.0                  27695.0              21.1    0.205975   \n",
       "5     44935.0                  31569.0              24.0    0.473627   \n",
       "6      7383.0                  31116.0              19.4    0.046475   \n",
       "7     12790.0                  29151.0              16.2    0.665383   \n",
       "8       111.0                      0.0               0.0    0.538066   \n",
       "9      7688.0                  25373.0              23.9    0.366644   \n",
       "\n",
       "   Atmosphere  Sanitation     Speed   Service      Food  High End  \n",
       "0    0.557899    0.162988  0.234307  0.301519  0.458047  0.486640  \n",
       "1    0.624900    0.340000  0.540500  0.388450  0.407321  0.462420  \n",
       "2    0.597809    0.506141  0.306973  0.344668  0.550435  0.418221  \n",
       "3    0.603185    0.625565  0.272090  0.399359  0.403279  0.365481  \n",
       "4    0.288275    0.149440  0.235328  0.063539  0.235375  0.442269  \n",
       "5    0.550566    0.549852  0.318655  0.539713  0.488674  0.481042  \n",
       "6    0.457633    0.081436  0.235222  0.152361  0.412588  0.414484  \n",
       "7    0.533150    0.750600  0.186355  0.178410  0.361921  0.463319  \n",
       "8    0.627197    0.398112  0.346866  0.466927  0.495763  0.421466  \n",
       "9    0.553547    0.379850  0.451015  0.549993  0.643022  0.392202  "
      ]
     },
     "execution_count": 32,
     "metadata": {},
     "output_type": "execute_result"
    }
   ],
   "source": [
    "x = grouped_data.drop(columns = ['review_stars', 'stars', 'Unnamed: 0', 'Unnamed: 0.1','name'])\n",
    "x = sm.add_constant(x)\n",
    "\n",
    "y = grouped_data['review_stars']\n",
    "\n",
    "x.head(10)\n"
   ]
  },
  {
   "cell_type": "markdown",
   "id": "693bc895",
   "metadata": {},
   "source": [
    "We run an initial OLS model using statsmodule package. We can see a decently high R-squared of 0.706, and an adjusted R-squared of 0.704. There are a few variables with low coefficients and high P values which we can examine later."
   ]
  },
  {
   "cell_type": "code",
   "execution_count": 33,
   "id": "9e2f5692",
   "metadata": {},
   "outputs": [
    {
     "name": "stdout",
     "output_type": "stream",
     "text": [
      "                            OLS Regression Results                            \n",
      "==============================================================================\n",
      "Dep. Variable:           review_stars   R-squared:                       0.703\n",
      "Model:                            OLS   Adj. R-squared:                  0.702\n",
      "Method:                 Least Squares   F-statistic:                     563.3\n",
      "Date:                Sun, 12 Sep 2021   Prob (F-statistic):               0.00\n",
      "Time:                        20:33:44   Log-Likelihood:                -951.14\n",
      "No. Observations:                3578   AIC:                             1934.\n",
      "Df Residuals:                    3562   BIC:                             2033.\n",
      "Df Model:                          15                                         \n",
      "Covariance Type:            nonrobust                                         \n",
      "===========================================================================================\n",
      "                              coef    std err          t      P>|t|      [0.025      0.975]\n",
      "-------------------------------------------------------------------------------------------\n",
      "const                       2.3597      0.080     29.356      0.000       2.202       2.517\n",
      "postal_code              2.152e-06   3.43e-07      6.270      0.000    1.48e-06    2.82e-06\n",
      "latitude                    0.0026      0.001      2.279      0.023       0.000       0.005\n",
      "longitude                   0.0072      0.001      5.229      0.000       0.004       0.010\n",
      "review_count             6.449e-05   1.54e-05      4.185      0.000    3.43e-05    9.47e-05\n",
      "is_open                     0.0975      0.011      8.553      0.000       0.075       0.120\n",
      "Zip Code                 2.152e-06   3.43e-07      6.270      0.000    1.48e-06    2.82e-06\n",
      "Population               9.384e-07   4.94e-07      1.900      0.058   -2.99e-08    1.91e-06\n",
      "Median Household Income -1.594e-06   7.73e-07     -2.063      0.039   -3.11e-06   -7.92e-08\n",
      "Avg Commute Time            0.0020      0.001      2.264      0.024       0.000       0.004\n",
      "Management                  0.3592      0.029     12.450      0.000       0.303       0.416\n",
      "Atmosphere                  0.0618      0.027      2.270      0.023       0.008       0.115\n",
      "Sanitation                  0.1484      0.020      7.517      0.000       0.110       0.187\n",
      "Speed                       0.9422      0.067     13.964      0.000       0.810       1.074\n",
      "Service                     1.3072      0.047     27.848      0.000       1.215       1.399\n",
      "Food                        1.1255      0.048     23.604      0.000       1.032       1.219\n",
      "High End                    0.9094      0.050     18.232      0.000       0.812       1.007\n",
      "==============================================================================\n",
      "Omnibus:                      188.096   Durbin-Watson:                   1.952\n",
      "Prob(Omnibus):                  0.000   Jarque-Bera (JB):              680.811\n",
      "Skew:                           0.113   Prob(JB):                    1.46e-148\n",
      "Kurtosis:                       5.125   Cond. No.                     6.27e+16\n",
      "==============================================================================\n",
      "\n",
      "Notes:\n",
      "[1] Standard Errors assume that the covariance matrix of the errors is correctly specified.\n",
      "[2] The smallest eigenvalue is 7.16e-21. This might indicate that there are\n",
      "strong multicollinearity problems or that the design matrix is singular.\n"
     ]
    }
   ],
   "source": [
    "model_statsmodule = sm.OLS(endog = y, exog = x)\n",
    "\n",
    "fit = model_statsmodule.fit()\n",
    "print(fit.summary())\n"
   ]
  },
  {
   "cell_type": "markdown",
   "id": "0c907c7f",
   "metadata": {},
   "source": [
    "We use VIF to identify high collinearity. There are a few that are high, but most variables are within 1-2, which is good."
   ]
  },
  {
   "cell_type": "code",
   "execution_count": 34,
   "id": "d0dad1e0",
   "metadata": {},
   "outputs": [
    {
     "name": "stderr",
     "output_type": "stream",
     "text": [
      "/Users/kenhua/opt/anaconda3/envs/metis/lib/python3.8/site-packages/statsmodels/stats/outliers_influence.py:193: RuntimeWarning: divide by zero encountered in double_scalars\n",
      "  vif = 1. / (1. - r_squared_i)\n"
     ]
    },
    {
     "data": {
      "text/plain": [
       "[('const', 230.9971759954068),\n",
       " ('postal_code', inf),\n",
       " ('latitude', 1.8826034335435196),\n",
       " ('longitude', 18.51233972952178),\n",
       " ('review_count', 1.0793234414616144),\n",
       " ('is_open', 1.069603411721878),\n",
       " ('Zip Code', inf),\n",
       " ('Population', 1.5038221249460109),\n",
       " ('Median Household Income', 1.3177326063809907),\n",
       " ('Avg Commute Time', 1.521613277659795),\n",
       " ('Management', 1.342361901335086),\n",
       " ('Atmosphere', 1.1237423963006201),\n",
       " ('Sanitation', 1.1898959515870287),\n",
       " ('Speed', 1.4074747902419276),\n",
       " ('Service', 1.8607633769774312),\n",
       " ('Food', 1.4069945210890336),\n",
       " ('High End', 1.2195535785201823)]"
      ]
     },
     "execution_count": 34,
     "metadata": {},
     "output_type": "execute_result"
    }
   ],
   "source": [
    "from statsmodels.stats.outliers_influence import variance_inflation_factor\n",
    "variables = fit.model.exog\n",
    "vif = [variance_inflation_factor(variables, i) for i in range(variables.shape[1])]\n",
    "list(zip(x.columns, vif))\n"
   ]
  },
  {
   "cell_type": "markdown",
   "id": "312849a0",
   "metadata": {},
   "source": [
    "Now, it's clear that certain variables should be dropped. Lets drop the features that are irrelevant, or have high P value"
   ]
  },
  {
   "cell_type": "code",
   "execution_count": 38,
   "id": "1cd6a1ef",
   "metadata": {},
   "outputs": [
    {
     "name": "stdout",
     "output_type": "stream",
     "text": [
      "                            OLS Regression Results                            \n",
      "==============================================================================\n",
      "Dep. Variable:           review_stars   R-squared:                       0.696\n",
      "Model:                            OLS   Adj. R-squared:                  0.696\n",
      "Method:                 Least Squares   F-statistic:                     1023.\n",
      "Date:                Sun, 12 Sep 2021   Prob (F-statistic):               0.00\n",
      "Time:                        20:40:27   Log-Likelihood:                -993.46\n",
      "No. Observations:                3578   AIC:                             2005.\n",
      "Df Residuals:                    3569   BIC:                             2061.\n",
      "Df Model:                           8                                         \n",
      "Covariance Type:            nonrobust                                         \n",
      "==============================================================================\n",
      "                 coef    std err          t      P>|t|      [0.025      0.975]\n",
      "------------------------------------------------------------------------------\n",
      "const          2.0127      0.025     81.823      0.000       1.965       2.061\n",
      "is_open        0.0976      0.011      8.686      0.000       0.076       0.120\n",
      "Management     0.3662      0.029     12.597      0.000       0.309       0.423\n",
      "Atmosphere     0.0731      0.027      2.664      0.008       0.019       0.127\n",
      "Sanitation     0.1394      0.020      7.010      0.000       0.100       0.178\n",
      "Speed          0.9422      0.068     13.846      0.000       0.809       1.076\n",
      "Service        1.3023      0.047     27.573      0.000       1.210       1.395\n",
      "Food           1.1385      0.048     23.666      0.000       1.044       1.233\n",
      "High End       0.9555      0.050     19.079      0.000       0.857       1.054\n",
      "==============================================================================\n",
      "Omnibus:                      179.694   Durbin-Watson:                   1.948\n",
      "Prob(Omnibus):                  0.000   Jarque-Bera (JB):              658.081\n",
      "Skew:                           0.053   Prob(JB):                    1.26e-143\n",
      "Kurtosis:                       5.098   Cond. No.                         20.3\n",
      "==============================================================================\n",
      "\n",
      "Notes:\n",
      "[1] Standard Errors assume that the covariance matrix of the errors is correctly specified.\n"
     ]
    }
   ],
   "source": [
    "x_removed_2 = x.drop(columns = ['postal_code','longitude','latitude', 'Zip Code','review_count','Median Household Income','Population', 'Avg Commute Time'])\n",
    "model_removed_2 = sm.OLS(endog = y, exog = x_removed_2)\n",
    "\n",
    "fit_2 = model_removed_2.fit()\n",
    "print(fit_2.summary())\n"
   ]
  },
  {
   "cell_type": "code",
   "execution_count": 42,
   "id": "c00e6291",
   "metadata": {},
   "outputs": [
    {
     "data": {
      "text/plain": [
       "<AxesSubplot:xlabel='Food', ylabel='review_stars'>"
      ]
     },
     "execution_count": 42,
     "metadata": {},
     "output_type": "execute_result"
    },
    {
     "data": {
      "image/png": "[encoded data removed]",
      "text/plain": [
       "<Figure size 432x288 with 1 Axes>"
      ]
     },
     "metadata": {
      "needs_background": "light"
     },
     "output_type": "display_data"
    }
   ],
   "source": [
    "sns.residplot(x=x_removed_2['Food'], y=y, color=\"g\")\n"
   ]
  },
  {
   "cell_type": "code",
   "execution_count": 40,
   "id": "c7b6b49a",
   "metadata": {},
   "outputs": [
    {
     "data": {
      "text/plain": [
       "<AxesSubplot:xlabel='Food', ylabel='review_stars'>"
      ]
     },
     "execution_count": 40,
     "metadata": {},
     "output_type": "execute_result"
    },
    {
     "data": {
      "image/png": "[encoded data removed]",
      "text/plain": [
       "<Figure size 432x288 with 1 Axes>"
      ]
     },
     "metadata": {
      "needs_background": "light"
     },
     "output_type": "display_data"
    }
   ],
   "source": [
    "sns.regplot(x=x_removed_2['Food'], y=y)\n"
   ]
  },
  {
   "cell_type": "markdown",
   "id": "b4afb6d6",
   "metadata": {},
   "source": [
    "### Model Optimization\n",
    "\n",
    "Now that we have the final features chosen for our report, let's try to use validation, regularization and other methods to obtain best possible model. \n",
    "\n",
    "First, do perform validation, we need to. So we use this function to split the data into a training/validation split of 80/20. "
   ]
  },
  {
   "cell_type": "code",
   "execution_count": 43,
   "id": "25c5b2c9",
   "metadata": {},
   "outputs": [],
   "source": [
    "from sklearn.model_selection import train_test_split\n",
    "\n",
    "\n",
    "def split_and_validate(X, y):\n",
    "    '''\n",
    "    For a set of features and target X, y, perform a 80/20 train/val split, \n",
    "    fit and validate a linear regression model, and report results\n",
    "    '''\n",
    "    \n",
    "    # perform train/val split\n",
    "    X_train, X_val, y_train, y_val = \\\n",
    "        train_test_split(X, y, test_size=0.2, random_state=42)\n",
    "\n",
    "    # fit linear regression to training data\n",
    "    lr_model = LinearRegression()\n",
    "    lr_model.fit(X_train, y_train)\n",
    "    \n",
    "    # score fit model on validation data\n",
    "    val_score = lr_model.score(X_val, y_val)\n",
    "    \n",
    "    # report results\n",
    "    print('\\nValidation R^2 score was:', val_score)\n",
    "    print('Feature coefficient results: \\n')\n",
    "    for feature, coef in zip(X.columns, lr_model.coef_):\n",
    "        print(feature, ':', f'{coef:.2f}') \n"
   ]
  },
  {
   "cell_type": "markdown",
   "id": "1ccf358c",
   "metadata": {},
   "source": [
    "Performing the simple validation with a linear regression model, we get similar R^2 and coefficients as we saw above."
   ]
  },
  {
   "cell_type": "code",
   "execution_count": 44,
   "id": "e5ecd1ce",
   "metadata": {},
   "outputs": [
    {
     "name": "stdout",
     "output_type": "stream",
     "text": [
      "\n",
      "Validation R^2 score was: 0.6845029799169309\n",
      "Feature coefficient results: \n",
      "\n",
      "const : 0.00\n",
      "is_open : 0.10\n",
      "Management : 0.38\n",
      "Atmosphere : 0.06\n",
      "Sanitation : 0.13\n",
      "Speed : 0.92\n",
      "Service : 1.33\n",
      "Food : 1.17\n",
      "High End : 0.88\n"
     ]
    }
   ],
   "source": [
    "split_and_validate(x_removed_2,y)\n"
   ]
  },
  {
   "cell_type": "markdown",
   "id": "835e3609",
   "metadata": {},
   "source": [
    "Let's try ridge regression with Cross Validation."
   ]
  },
  {
   "cell_type": "code",
   "execution_count": 45,
   "id": "c355be22",
   "metadata": {},
   "outputs": [],
   "source": [
    "X_train, X_val, y_train, y_val = \\\n",
    "        train_test_split(x_removed_2, y, test_size=0.2, random_state=42)\n"
   ]
  },
  {
   "cell_type": "code",
   "execution_count": 46,
   "id": "ab29e89d",
   "metadata": {},
   "outputs": [
    {
     "name": "stdout",
     "output_type": "stream",
     "text": [
      "\n",
      "Training R^2 score was: 0.6990188617455371\n",
      "\n",
      "Validation R^2 score was: 0.684455020606241\n"
     ]
    }
   ],
   "source": [
    "alphavec = 10**np.linspace(-2,2,200)\n",
    "\n",
    "ridge_model_cv = RidgeCV(alphas = alphavec, cv=5)\n",
    "ridge_model_cv.fit(X_train, y_train)\n",
    "\n",
    "ridge_model_cv.alpha_\n",
    "print('\\nTraining R^2 score was:', ridge_model_cv.score(X_train, y_train))\n",
    "print('\\nValidation R^2 score was:' , ridge_model_cv.score(X_val, y_val))\n"
   ]
  },
  {
   "cell_type": "code",
   "execution_count": 47,
   "id": "9530feac",
   "metadata": {},
   "outputs": [
    {
     "data": {
      "text/plain": [
       "[('const', 0.0),\n",
       " ('is_open', 0.09775951427119009),\n",
       " ('Management', 0.3849317932637514),\n",
       " ('Atmosphere', 0.06530869312421975),\n",
       " ('Sanitation', 0.1305776855180544),\n",
       " ('Speed', 0.9073845051762127),\n",
       " ('Service', 1.3257501470324777),\n",
       " ('Food', 1.161609066154652),\n",
       " ('High End', 0.8714035804523199)]"
      ]
     },
     "execution_count": 47,
     "metadata": {},
     "output_type": "execute_result"
    }
   ],
   "source": [
    "list(zip(x_removed_2.columns, ridge_model_cv.coef_))\n"
   ]
  },
  {
   "cell_type": "code",
   "execution_count": 48,
   "id": "5afefd2a",
   "metadata": {},
   "outputs": [
    {
     "data": {
      "text/plain": [
       "0.4659525668664682"
      ]
     },
     "execution_count": 48,
     "metadata": {},
     "output_type": "execute_result"
    }
   ],
   "source": [
    "ridge_model_cv.alpha_"
   ]
  },
  {
   "cell_type": "markdown",
   "id": "d3f37d77",
   "metadata": {},
   "source": [
    "The model improved with a ridge regularization term included. Let's try lasso regularization"
   ]
  },
  {
   "cell_type": "code",
   "execution_count": 49,
   "id": "2919e6a4",
   "metadata": {},
   "outputs": [
    {
     "name": "stdout",
     "output_type": "stream",
     "text": [
      "\n",
      "Training R^2 score was: 0.6521724650706525\n",
      "\n",
      "Validation R^2 score was: 0.6292729960095222\n"
     ]
    }
   ],
   "source": [
    "lasso_model_cv = LassoCV(alphas = alphavec, cv=5)\n",
    "lasso_model_cv.fit(X_train, y_train)\n",
    "\n",
    "print('\\nTraining R^2 score was:', lasso_model_cv.score(X_train, y_train))\n",
    "print('\\nValidation R^2 score was:' ,lasso_model_cv.score(X_val, y_val))\n",
    "\n"
   ]
  },
  {
   "cell_type": "code",
   "execution_count": 50,
   "id": "fbf71cb7",
   "metadata": {},
   "outputs": [
    {
     "data": {
      "text/plain": [
       "[('const', 0.0),\n",
       " ('postal_code', 0.08304073501101687),\n",
       " ('latitude', 0.37651265602617084),\n",
       " ('longitude', 0.0),\n",
       " ('review_count', 0.13560787611226552),\n",
       " ('is_open', 0.0313468181419993),\n",
       " ('Zip Code', 1.4258490589139834),\n",
       " ('Population', 0.9046270461717753),\n",
       " ('Median Household Income', 0.44154263257856796)]"
      ]
     },
     "execution_count": 50,
     "metadata": {},
     "output_type": "execute_result"
    }
   ],
   "source": [
    "list(zip(x.columns, lasso_model_cv.coef_))\n"
   ]
  },
  {
   "cell_type": "code",
   "execution_count": 51,
   "id": "6b8049c7",
   "metadata": {},
   "outputs": [
    {
     "data": {
      "text/plain": [
       "0.01"
      ]
     },
     "execution_count": 51,
     "metadata": {},
     "output_type": "execute_result"
    }
   ],
   "source": [
    "lasso_model_cv.alpha_\n"
   ]
  },
  {
   "cell_type": "code",
   "execution_count": null,
   "id": "e703c333",
   "metadata": {},
   "outputs": [],
   "source": []
  }
 ],
 "metadata": {
  "kernelspec": {
   "display_name": "Python [conda env:metis] *",
   "language": "python",
   "name": "conda-env-metis-py"
  },
  "language_info": {
   "codemirror_mode": {
    "name": "ipython",
    "version": 3
   },
   "file_extension": ".py",
   "mimetype": "text/x-python",
   "name": "python",
   "nbconvert_exporter": "python",
   "pygments_lexer": "ipython3",
   "version": "3.8.10"
  }
 },
 "nbformat": 4,
 "nbformat_minor": 5
}
